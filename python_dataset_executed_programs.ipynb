{
 "cells": [
  {
   "cell_type": "code",
   "execution_count": 9,
   "metadata": {},
   "outputs": [
    {
     "name": "stdout",
     "output_type": "stream",
     "text": [
      "disarium\n"
     ]
    }
   ],
   "source": [
    "# Write a program to find and print if a number given is disarium or not\n",
    "\n",
    "num = 135\n",
    "num_len = len(str(num))\n",
    "n = num\n",
    "sum = 0\n",
    "exp = num_len\n",
    "while n != 0:\n",
    "    i = int(n % 10)\n",
    "    n = int(n / 10)\n",
    "    sum += i ** exp\n",
    "    exp -= 1\n",
    "if sum == num:\n",
    "    print(\"disarium\")\n",
    "else:\n",
    "    print(\"not disarium\")"
   ]
  },
  {
   "cell_type": "code",
   "execution_count": 13,
   "metadata": {},
   "outputs": [
    {
     "name": "stdout",
     "output_type": "stream",
     "text": [
      "28\n"
     ]
    }
   ],
   "source": [
    "# Write a program to find and print second largest number from list of numbers\n",
    "\n",
    "num_array = [8, 6, 15, 23, 14, 28, 5, 1, 99]\n",
    "largest = second_largest = num_array[0]\n",
    "for i in range(1,len(num_array)):\n",
    "    if num_array[i] > largest:\n",
    "        second_largest = largest\n",
    "        largest = num_array[i]\n",
    "    elif num_array[i] > second_largest:\n",
    "        second_largest = num_array[i]\n",
    "print(second_largest)"
   ]
  },
  {
   "cell_type": "code",
   "execution_count": 16,
   "metadata": {},
   "outputs": [
    {
     "name": "stdout",
     "output_type": "stream",
     "text": [
      "Volume=904.7786842338603\n"
     ]
    }
   ],
   "source": [
    "# Write a program to find and print volume of a sphere for which diameter d is given\n",
    "import math\n",
    "\n",
    "diameter = 12.\n",
    "radius = diameter/2.\n",
    "# Calculate volume V\n",
    "V = 4./3. * math.pi * radius ** 3\n",
    "print(f\"Volume={V}\")"
   ]
  },
  {
   "cell_type": "code",
   "execution_count": 17,
   "metadata": {},
   "outputs": [
    {
     "name": "stdout",
     "output_type": "stream",
     "text": [
      "['x', 'xx', 'xxx', 'xxxx', 'y', 'yy', 'yyy', 'yyyy', 'z', 'zz', 'zzz', 'zzzz']\n"
     ]
    }
   ],
   "source": [
    "# Write a program using list comprehension to produce and print the list ['x', 'xx', 'xxx', 'xxxx', 'y', 'yy', 'yyy', 'yyyy', 'z', 'zz', 'zzz', 'zzzz']\n",
    "\n",
    "input_string_list = ['x', 'y', 'z']\n",
    "repeat_count = 4\n",
    "list2 = [input_string_list[i] * (j+1)  for i in range(len(input_string_list)) for j in range(repeat_count) ]\n",
    "print(list2)"
   ]
  },
  {
   "cell_type": "code",
   "execution_count": 18,
   "metadata": {},
   "outputs": [
    {
     "name": "stdout",
     "output_type": "stream",
     "text": [
      "['x', 'y', 'z', 'xx', 'yy', 'zz', 'xxx', 'yyy', 'zzz', 'xxxx', 'yyyy', 'zzzz']\n"
     ]
    }
   ],
   "source": [
    "# Write a program using list comprehension to produce and print the list ['x', 'y', 'z', 'xx', 'yy', 'zz', 'xxx', 'yyy', 'zzz', 'xxxx', 'yyyy', 'zzzz']\n",
    "\n",
    "input_string_list = ['x', 'y', 'z']\n",
    "repeat_count = 4\n",
    "list3 = [input_string_list[i] * (j+1) for j in range(repeat_count)  for i in range(len(input_string_list)) ]\n",
    "print(list3)"
   ]
  },
  {
   "cell_type": "code",
   "execution_count": 19,
   "metadata": {},
   "outputs": [
    {
     "name": "stdout",
     "output_type": "stream",
     "text": [
      "[[2], [3], [4], [3], [4], [5], [4], [5], [6]]\n"
     ]
    }
   ],
   "source": [
    "# Write a program using list comprehension to produce and print the list  [[2],[3],[4],[3],[4],[5],[4],[5],[6]]\n",
    "\n",
    "start_num = 2\n",
    "repeat_count = 3\n",
    "max_offset = 3\n",
    "list4 = [[start_num + i + j ]  for j in range(max_offset) for i in range(repeat_count) ] \n",
    "print(list4)"
   ]
  },
  {
   "cell_type": "code",
   "execution_count": 20,
   "metadata": {},
   "outputs": [
    {
     "name": "stdout",
     "output_type": "stream",
     "text": [
      "[[2, 3, 4, 5], [3, 4, 5, 6], [4, 5, 6, 7], [5, 6, 7, 8]]\n"
     ]
    }
   ],
   "source": [
    "# Write a program using list comprehension to produce and print the list [[2, 3, 4, 5], [3, 4, 5, 6], [4, 5, 6, 7], [5, 6, 7, 8]]\n",
    "\n",
    "start_num = 2\n",
    "repeat_count = 4\n",
    "max_offset =4\n",
    "list5 = [[start_num + i + j  for j in range(max_offset)]  for i in range(repeat_count) ]\n",
    "print(list5)"
   ]
  },
  {
   "cell_type": "code",
   "execution_count": 21,
   "metadata": {},
   "outputs": [
    {
     "name": "stdout",
     "output_type": "stream",
     "text": [
      "[(1, 1), (2, 1), (3, 1), (1, 2), (2, 2), (3, 2), (1, 3), (2, 3), (3, 3)]\n"
     ]
    }
   ],
   "source": [
    "# Write a program using list comprehension to produce and print the list [(1, 1), (2, 1), (3, 1), (1, 2), (2, 2), (3, 2), (1, 3), (2, 3), (3, 3)]\n",
    "\n",
    "max_count = 3\n",
    "list6 = [(j+1,i+1)  for i in range(max_count)  for j in range(max_count) ]\n",
    "print(list6)"
   ]
  },
  {
   "cell_type": "code",
   "execution_count": 22,
   "metadata": {},
   "outputs": [],
   "source": [
    "# Implement a function longestWord which take input as list of words and return the longest word\n",
    "\n",
    "import functools\n",
    "\n",
    "def longestWord(word_list):\n",
    "    if word_list is None or isinstance(word_list, list) == False or len(word_list) == 0:\n",
    "        raise ValueError(\"Input word_list to function longestWord must be list of words of size at least 1\")\n",
    "    \n",
    "    if len(word_list) == 1:\n",
    "        return word_list[0]    \n",
    "    else:\n",
    "        return functools.reduce(lambda x,y: x if len(x) >= len(y) else y, word_list)"
   ]
  },
  {
   "cell_type": "code",
   "execution_count": 23,
   "metadata": {},
   "outputs": [
    {
     "name": "stdout",
     "output_type": "stream",
     "text": [
      "Longest word: Elephant\n"
     ]
    }
   ],
   "source": [
    "input_word_list = [\"hi\", \"Hello\", \"India\", \"Cat\", \"Elephant\", \"Tiger\"]\n",
    "longest_word = longestWord(input_word_list)\n",
    "print(\"Longest word: \" + longest_word)"
   ]
  },
  {
   "cell_type": "code",
   "execution_count": 25,
   "metadata": {},
   "outputs": [
    {
     "name": "stdout",
     "output_type": "stream",
     "text": [
      "[2, 3, 4]\n"
     ]
    }
   ],
   "source": [
    "# Write a program that maps list of words into a list of integers representing the lengths of the corresponding words\n",
    "\n",
    "lst = [\"ab\",\"cde\",\"erty\"]\n",
    "length_list = list(map((lambda element: len(element)), lst))\n",
    "print(str(length_list))"
   ]
  },
  {
   "cell_type": "code",
   "execution_count": 26,
   "metadata": {},
   "outputs": [
    {
     "name": "stdout",
     "output_type": "stream",
     "text": [
      "Americans play Baseball.\n",
      "Americans play Cricket.\n",
      "Americans watch Baseball.\n",
      "Americans watch Cricket.\n",
      "Indians play Baseball.\n",
      "Indians play Cricket.\n",
      "Indians watch Baseball.\n",
      "Indians watch Cricket.\n"
     ]
    }
   ],
   "source": [
    "# Write a program to generate and print all sentences where subject is in[\"Americans\", \"Indians\"] and verb is in [\"Play\", \"watch\"] and the object is in [\"Baseball\",\"cricket\"]\n",
    "\n",
    "subjects=[\"Americans\",\"Indians\"]\n",
    "verbs=[\"play\",\"watch\"]\n",
    "objects=[\"Baseball\",\"Cricket\"]\n",
    "sentence_list = [subject + \" \" + verb + \" \" + object + \".\" for subject in subjects for verb in verbs for object in objects]\n",
    "for sentence in sentence_list:\n",
    "    print(sentence)"
   ]
  },
  {
   "cell_type": "code",
   "execution_count": 27,
   "metadata": {},
   "outputs": [
    {
     "name": "stdout",
     "output_type": "stream",
     "text": [
      "Enter your first name: Monimoy\n",
      "Enter your last name: Purkayastha\n",
      "Purkayastha Monimoy\n"
     ]
    }
   ],
   "source": [
    "# Write a program which accepts users first name and last name and print in reverse order with a space\n",
    "\n",
    "first_name = input(\"Enter your first name: \")\n",
    "last_name = input(\"Enter your last name: \")\n",
    "print(last_name.strip() + \" \" + first_name.strip())"
   ]
  },
  {
   "cell_type": "code",
   "execution_count": 32,
   "metadata": {},
   "outputs": [],
   "source": [
    "# Write a function to find minimum edit distance between words given\n",
    "\n",
    "def minDistance(word1, word2):\n",
    "    m = len(word1)\n",
    "    n = len(word2)\n",
    "\n",
    "    if m*n == 0:\n",
    "        return m + n\n",
    "\n",
    "    d = [ [0] * (n + 1) for _ in range(m+1)]\n",
    "    for i in range(m+1):\n",
    "        d[i][0] = i\n",
    "\n",
    "    for j in range(n+1):\n",
    "            d[0][j] = j\n",
    "\n",
    "    for i in range(m+1):\n",
    "        for j in range(n+1):\n",
    "            left = d[i-1][j] + 1\n",
    "            down = d[i][j-1] + 1\n",
    "            left_down = d[i-1][j-1]\n",
    "            if word1[i-1] != word2[j-1]:\n",
    "                left_down += 1\n",
    "            d[i][j] = min(left, down, left_down)\n",
    "\n",
    "    return d[m][n]\n"
   ]
  },
  {
   "cell_type": "code",
   "execution_count": 33,
   "metadata": {},
   "outputs": [
    {
     "name": "stdout",
     "output_type": "stream",
     "text": [
      "5\n"
     ]
    }
   ],
   "source": [
    "print(minDistance(\"intention\", \"execution\"))"
   ]
  },
  {
   "cell_type": "code",
   "execution_count": 36,
   "metadata": {},
   "outputs": [],
   "source": [
    "# Write a function to return list of all the possible gray code for a number given\n",
    "\n",
    "def grayCode(n):\n",
    "    if n == 0:\n",
    "        return [0]\n",
    "        \n",
    "    if n == 1:\n",
    "        return [0,1]\n",
    "        \n",
    "    res = []\n",
    "                \n",
    "    start = '0'*n\n",
    "    visited = set()\n",
    "    stk = [start]\n",
    "        \n",
    "    while stk:\n",
    "        node = stk.pop()\n",
    "        if node not in visited:\n",
    "            res.append(int(node,2))            \n",
    "            visited.add(node)\n",
    "        if len(visited) == 2**n:\n",
    "            break\n",
    "                \n",
    "        for i in range(n):\n",
    "            newCh = '0' if node[i] == '1' else '1' \n",
    "            newNode = node[:i] + newCh + node[i+1:]\n",
    "                \n",
    "            if newNode not in visited:\n",
    "                    stk.append(newNode)\n",
    "    return res"
   ]
  },
  {
   "cell_type": "code",
   "execution_count": 37,
   "metadata": {},
   "outputs": [
    {
     "name": "stdout",
     "output_type": "stream",
     "text": [
      "[0, 1, 3, 2, 6, 7, 5, 4, 12, 13, 15, 14, 10, 11, 9, 8, 24, 25, 27, 26, 30, 31, 29, 28, 20, 21, 23, 22, 18, 19, 17, 16]\n"
     ]
    }
   ],
   "source": [
    "print(grayCode(5))"
   ]
  },
  {
   "cell_type": "code",
   "execution_count": 41,
   "metadata": {},
   "outputs": [],
   "source": [
    "# Write a function which takes a list of non negative numbers and target sum S, two operations (+, -) how many different ways target sum is achived re\n",
    "\n",
    "def findTargetSumWays(nums, S):\n",
    "    count = 0\n",
    "    def calculate(nums, i, sum, S):\n",
    "        nonlocal count\n",
    "        if i == len(nums):\n",
    "            if sum == S:\n",
    "                count += 1\n",
    "        else:\n",
    "            calculate(nums, i+1, sum+ nums[i], S)\n",
    "            calculate(nums, i+1, sum- nums[i], S)\n",
    "            \n",
    "    calculate(nums, 0, 0, S) \n",
    "    return count"
   ]
  },
  {
   "cell_type": "code",
   "execution_count": 42,
   "metadata": {},
   "outputs": [
    {
     "data": {
      "text/plain": [
       "3"
      ]
     },
     "execution_count": 42,
     "metadata": {},
     "output_type": "execute_result"
    }
   ],
   "source": [
    "findTargetSumWays([1, 2, 3, 4, 5], 5)"
   ]
  },
  {
   "cell_type": "code",
   "execution_count": 44,
   "metadata": {},
   "outputs": [],
   "source": [
    "# Write a function which wil return True if list parenthesis used in a input expression is valid, False otherwise\n",
    "\n",
    "def isValid(s):\n",
    "    stack = []\n",
    "    mapping = {')': '(', '}' : '{', ']':'['}\n",
    "    for char in s:\n",
    "        if char in mapping:                \n",
    "            if not stack:\n",
    "                return False\n",
    "            top = stack.pop()\n",
    "            if mapping[char] != top:\n",
    "                return False\n",
    "        else:\n",
    "            stack.append(char)     \n",
    "\n",
    "    return not stack"
   ]
  },
  {
   "cell_type": "code",
   "execution_count": 47,
   "metadata": {},
   "outputs": [
    {
     "data": {
      "text/plain": [
       "True"
      ]
     },
     "execution_count": 47,
     "metadata": {},
     "output_type": "execute_result"
    }
   ],
   "source": [
    "isValid(\"[(())]\")"
   ]
  },
  {
   "cell_type": "code",
   "execution_count": 50,
   "metadata": {},
   "outputs": [],
   "source": [
    "# Write a function to solve and print Towers of Hanoi problem\n",
    "\n",
    "def TowerOfHanoi(n , source, destination, auxiliary): \n",
    "    if n==1: \n",
    "        print(\"Move disk 1 from source\",source,\"to destination\",destination) \n",
    "        return\n",
    "    TowerOfHanoi(n-1, source, auxiliary, destination) \n",
    "    print(\"Move disk\",n,\"from source\",source,\"to destination\",destination) \n",
    "    TowerOfHanoi(n-1, auxiliary, destination, source) "
   ]
  },
  {
   "cell_type": "code",
   "execution_count": 51,
   "metadata": {},
   "outputs": [
    {
     "name": "stdout",
     "output_type": "stream",
     "text": [
      "Move disk 1 from source A to destination B\n",
      "Move disk 2 from source A to destination C\n",
      "Move disk 1 from source B to destination C\n",
      "Move disk 3 from source A to destination B\n",
      "Move disk 1 from source C to destination A\n",
      "Move disk 2 from source C to destination B\n",
      "Move disk 1 from source A to destination B\n",
      "Move disk 4 from source A to destination C\n",
      "Move disk 1 from source B to destination C\n",
      "Move disk 2 from source B to destination A\n",
      "Move disk 1 from source C to destination A\n",
      "Move disk 3 from source B to destination C\n",
      "Move disk 1 from source A to destination B\n",
      "Move disk 2 from source A to destination C\n",
      "Move disk 1 from source B to destination C\n",
      "Move disk 5 from source A to destination B\n",
      "Move disk 1 from source C to destination A\n",
      "Move disk 2 from source C to destination B\n",
      "Move disk 1 from source A to destination B\n",
      "Move disk 3 from source C to destination A\n",
      "Move disk 1 from source B to destination C\n",
      "Move disk 2 from source B to destination A\n",
      "Move disk 1 from source C to destination A\n",
      "Move disk 4 from source C to destination B\n",
      "Move disk 1 from source A to destination B\n",
      "Move disk 2 from source A to destination C\n",
      "Move disk 1 from source B to destination C\n",
      "Move disk 3 from source A to destination B\n",
      "Move disk 1 from source C to destination A\n",
      "Move disk 2 from source C to destination B\n",
      "Move disk 1 from source A to destination B\n"
     ]
    }
   ],
   "source": [
    "TowerOfHanoi(5 , 'A', 'B', 'C')"
   ]
  },
  {
   "cell_type": "code",
   "execution_count": 52,
   "metadata": {},
   "outputs": [],
   "source": [
    "# Write a function to check if a number given is a Armstrong number\n",
    "\n",
    "def isArmstrong(x):\n",
    "    n = 0\n",
    "    while (x != 0): \n",
    "        n = n + 1\n",
    "        x = x // 10\n",
    "    temp = x \n",
    "    sum1 = 0\n",
    "      \n",
    "    while (temp != 0): \n",
    "        r = temp % 10\n",
    "        sum1 = sum1 + r ** n\n",
    "        temp = temp // 10\n",
    "  \n",
    "    return (sum1 == x) "
   ]
  },
  {
   "cell_type": "code",
   "execution_count": 53,
   "metadata": {},
   "outputs": [
    {
     "data": {
      "text/plain": [
       "True"
      ]
     },
     "execution_count": 53,
     "metadata": {},
     "output_type": "execute_result"
    }
   ],
   "source": [
    "isArmstrong(153)"
   ]
  },
  {
   "cell_type": "code",
   "execution_count": 55,
   "metadata": {},
   "outputs": [
    {
     "name": "stdout",
     "output_type": "stream",
     "text": [
      "3025\n"
     ]
    }
   ],
   "source": [
    "# Write a program to find and print sum of series with cubes of first n natural numbers \n",
    "\n",
    "n = 10\n",
    "sum = 0\n",
    "for i in range(1, n+1): \n",
    "    sum += i**3\n",
    "\n",
    "print(f\"{sum}\")"
   ]
  },
  {
   "cell_type": "code",
   "execution_count": 56,
   "metadata": {},
   "outputs": [],
   "source": [
    "# Write a function which returns True elements in a given list is monotonically increasing or decreasing, return False otherwise \n",
    "\n",
    "def isMonotonic(A):  \n",
    "    return (all(A[i] <= A[i + 1] for i in range(len(A) - 1)) or\n",
    "            all(A[i] >= A[i + 1] for i in range(len(A) - 1))) "
   ]
  },
  {
   "cell_type": "code",
   "execution_count": 57,
   "metadata": {},
   "outputs": [
    {
     "name": "stdout",
     "output_type": "stream",
     "text": [
      "True\n"
     ]
    }
   ],
   "source": [
    "print(isMonotonic([2, 4, 5, 8]))"
   ]
  },
  {
   "cell_type": "code",
   "execution_count": 58,
   "metadata": {},
   "outputs": [
    {
     "name": "stdout",
     "output_type": "stream",
     "text": [
      "False\n"
     ]
    }
   ],
   "source": [
    "print(isMonotonic([3, 2, 7, 8, 9]))"
   ]
  },
  {
   "cell_type": "code",
   "execution_count": 59,
   "metadata": {},
   "outputs": [
    {
     "name": "stdout",
     "output_type": "stream",
     "text": [
      "[114, 160, 60, 27]\n",
      "[74, 97, 73, 14]\n",
      "[119, 157, 112, 23]\n"
     ]
    }
   ],
   "source": [
    "# Write program to find and print product of two matrices\n",
    "\n",
    "A = [[12, 7, 3], \n",
    "    [4, 5, 6], \n",
    "    [7, 8, 9]]   \n",
    "  \n",
    "B = [[5, 8, 1, 2], \n",
    "    [6, 7, 3, 0], \n",
    "    [4, 5, 9, 1]] \n",
    "      \n",
    "result = [[0, 0, 0, 0], \n",
    "        [0, 0, 0, 0], \n",
    "        [0, 0, 0, 0]] \n",
    "  \n",
    "\n",
    "for i in range(len(A)): \n",
    "    for j in range(len(B[0])): \n",
    "        for k in range(len(B)): \n",
    "            result[i][j] += A[i][k] * B[k][j] \n",
    "  \n",
    "for r in result: \n",
    "    print(r) "
   ]
  },
  {
   "cell_type": "code",
   "execution_count": 60,
   "metadata": {},
   "outputs": [
    {
     "name": "stdout",
     "output_type": "stream",
     "text": [
      "The Kth column of matrix is : [6, 10, 5]\n"
     ]
    }
   ],
   "source": [
    "# Write a program to find and print  K th column of a matrix\n",
    "\n",
    "test_list = [[4, 5, 6], [8, 1, 10], [7, 12, 5]] \n",
    "\n",
    "K = 2\n",
    "res = [sub[K] for sub in test_list] \n",
    "print(\"The Kth column of matrix is : \" + str(res)) "
   ]
  },
  {
   "cell_type": "code",
   "execution_count": 61,
   "metadata": {},
   "outputs": [
    {
     "name": "stdout",
     "output_type": "stream",
     "text": [
      "GoEastOrWestIndiaIsTheBest\n"
     ]
    }
   ],
   "source": [
    "# Write a python program to Convert and print Snake case to Pascal case \n",
    "test_str = 'go_east_or_west_india_is_the_best'\n",
    "res = test_str.replace(\"_\", \" \").title().replace(\" \", \"\")\n",
    "print(res)"
   ]
  },
  {
   "cell_type": "code",
   "execution_count": 62,
   "metadata": {},
   "outputs": [],
   "source": [
    "# Write a program to print only even length words in a sentence\n",
    "\n",
    "def printEvenLengthWords(s): \n",
    "      \n",
    "    s = s.split(' ')  \n",
    "    for word in s:\n",
    "        if len(word)%2==0: \n",
    "            print(word)  \n"
   ]
  },
  {
   "cell_type": "code",
   "execution_count": 63,
   "metadata": {},
   "outputs": [
    {
     "name": "stdout",
     "output_type": "stream",
     "text": [
      "love\n",
      "to\n",
      "tournament\n"
     ]
    }
   ],
   "source": [
    "s = \"I love to see cricket tournament\" \n",
    "printEvenLengthWords(s)"
   ]
  },
  {
   "cell_type": "code",
   "execution_count": 65,
   "metadata": {},
   "outputs": [],
   "source": [
    "# Write a function to find uncommon words between two sentences given\n",
    "def UncommonWords(A, B): \n",
    "    count = {} \n",
    "    for word in A.split(): \n",
    "        count[word] = count.get(word, 0) + 1\n",
    "    for word in B.split(): \n",
    "        count[word] = count.get(word, 0) + 1\n",
    "  \n",
    "    return [word for word in count if count[word] == 1] \n"
   ]
  },
  {
   "cell_type": "code",
   "execution_count": 66,
   "metadata": {},
   "outputs": [
    {
     "name": "stdout",
     "output_type": "stream",
     "text": [
      "['a', 'country', 'in', 'world']\n"
     ]
    }
   ],
   "source": [
    "A = \"India is great\"\n",
    "B = \"India is a great country in world\"\n",
    "  \n",
    "# Print required answer \n",
    "print(UncommonWords(A, B)) "
   ]
  },
  {
   "cell_type": "code",
   "execution_count": 67,
   "metadata": {},
   "outputs": [],
   "source": [
    "# Write a function which determines if binary representation of a number is palindrome\n",
    "\n",
    "def binaryPallindrome(num): \n",
    "     binary = bin(num) \n",
    "     binary = binary[2:] \n",
    "     return binary == binary[-1::-1] "
   ]
  },
  {
   "cell_type": "code",
   "execution_count": 69,
   "metadata": {},
   "outputs": [
    {
     "name": "stdout",
     "output_type": "stream",
     "text": [
      "True\n"
     ]
    }
   ],
   "source": [
    "num = 9\n",
    "print(binaryPallindrome(num)) "
   ]
  },
  {
   "cell_type": "code",
   "execution_count": 71,
   "metadata": {},
   "outputs": [
    {
     "name": "stdout",
     "output_type": "stream",
     "text": [
      "The extracted words : ['all', 'and', 'educated']\n"
     ]
    }
   ],
   "source": [
    "# Write a program to extract and print words that starts with vowel\n",
    "\n",
    "test_list = [\"all\", \"love\", \"and\", \"get\", \"educated\", \"by\", \"gfg\"] \n",
    "  \n",
    "res = [] \n",
    "vow = \"aeiou\"\n",
    "for sub in test_list: \n",
    "    flag = False\n",
    "    for ele in vow: \n",
    "        if sub.startswith(ele): \n",
    "            flag = True \n",
    "            break\n",
    "    if flag: \n",
    "        res.append(sub) \n",
    "print(\"The extracted words : \" + str(res)) \n"
   ]
  },
  {
   "cell_type": "code",
   "execution_count": 72,
   "metadata": {},
   "outputs": [],
   "source": [
    "# Write a function to extract URLs from a sentence\n",
    "\n",
    "import re \n",
    "  \n",
    "def FindUrls(string): \n",
    "    regex = r\"(?i)\\b((?:https?://|www\\d{0,3}[.]|[a-z0-9.\\-]+[.][a-z]{2,4}/)(?:[^\\s()<>]+|\\(([^\\s()<>]+|(\\([^\\s()<>]+\\)))*\\))+(?:\\(([^\\s()<>]+|(\\([^\\s()<>]+\\)))*\\)|[^\\s`!()\\[\\]{};:'\\\".,<>?«»“”‘’]))\"\n",
    "    url = re.findall(regex,string)       \n",
    "    return [x[0] for x in url] \n",
    "      \n"
   ]
  },
  {
   "cell_type": "code",
   "execution_count": 74,
   "metadata": {},
   "outputs": [
    {
     "name": "stdout",
     "output_type": "stream",
     "text": [
      "Urls:  ['https://auth.geeksforgeeks.org/user/Chinmoy%20Lenka/articles', 'http://www.geeksforgeeks.org/']\n"
     ]
    }
   ],
   "source": [
    "string = 'My Profile: https://auth.geeksforgeeks.org/user/Chinmoy%20Lenka/articles in the portal of http://www.geeksforgeeks.org/'\n",
    "print(\"Urls: \", FindUrls(string)) "
   ]
  },
  {
   "cell_type": "code",
   "execution_count": 75,
   "metadata": {},
   "outputs": [],
   "source": [
    "# Write a  function to Check and print if binary representations of two numbers are anagram \n",
    "\n",
    "from collections import Counter \n",
    "  \n",
    "def checkAnagram(num1,num2): \n",
    "    bin1 = bin(num1)[2:] \n",
    "    bin2 = bin(num2)[2:] \n",
    "  \n",
    "    zeros = abs(len(bin1)-len(bin2)) \n",
    "    if (len(bin1)>len(bin2)): \n",
    "         bin2 = zeros * '0' + bin2 \n",
    "    else: \n",
    "         bin1 = zeros * '0' + bin1 \n",
    "  \n",
    "    dict1 = Counter(bin1) \n",
    "    dict2 = Counter(bin2) \n",
    "  \n",
    "\n",
    "    if dict1 == dict2: \n",
    "         print('Yes') \n",
    "    else: \n",
    "         print('No') \n",
    "  \n"
   ]
  },
  {
   "cell_type": "code",
   "execution_count": 76,
   "metadata": {},
   "outputs": [
    {
     "name": "stdout",
     "output_type": "stream",
     "text": [
      "Yes\n"
     ]
    }
   ],
   "source": [
    "num1 = 8\n",
    "num2 = 4\n",
    "checkAnagram(num1,num2) "
   ]
  },
  {
   "cell_type": "code",
   "execution_count": 78,
   "metadata": {},
   "outputs": [],
   "source": [
    "# Write a function to implement Gnome Sort on a list of numbers given\n",
    "\n",
    "def gnomeSort( arr, n): \n",
    "    index = 0\n",
    "    while index < n: \n",
    "        if index == 0: \n",
    "            index = index + 1\n",
    "        if arr[index] >= arr[index - 1]: \n",
    "            index = index + 1\n",
    "        else: \n",
    "            arr[index], arr[index-1] = arr[index-1], arr[index] \n",
    "            index = index - 1\n",
    "  \n",
    "    return arr  \n"
   ]
  },
  {
   "cell_type": "code",
   "execution_count": 79,
   "metadata": {},
   "outputs": [
    {
     "name": "stdout",
     "output_type": "stream",
     "text": [
      "Sorted sequnce after applying Gnome Sort : [-9, 2, 10, 34]\n"
     ]
    }
   ],
   "source": [
    "arr = [ 34, 2, 10, -9] \n",
    "arr = gnomeSort(arr, len(arr) ) \n",
    "print(\"Sorted sequnce after applying Gnome Sort :\", arr) \n"
   ]
  },
  {
   "cell_type": "code",
   "execution_count": 80,
   "metadata": {},
   "outputs": [
    {
     "name": "stdout",
     "output_type": "stream",
     "text": [
      "***********\n",
      " **********\n",
      "  *********\n",
      "   ********\n",
      "    *******\n",
      "     ******\n",
      "      *****\n",
      "       ****\n",
      "        ***\n",
      "         **\n",
      "          *\n"
     ]
    }
   ],
   "source": [
    "# Write a program to print inverted star pattern for the given number\n",
    "\n",
    "n=11\n",
    "\n",
    "for i in range (n, 0, -1): \n",
    "    print((n-i) * ' ' + i * '*') "
   ]
  },
  {
   "cell_type": "code",
   "execution_count": 81,
   "metadata": {},
   "outputs": [],
   "source": [
    "# Write a function to find and print if IP address given is a valid IP address or not\n",
    "\n",
    "import re\n",
    " \n",
    "def Validate_IP(IP):\n",
    "    regex = \"(([0-9]|[1-9][0-9]|1[0-9][0-9]|\"\\\n",
    "            \"2[0-4][0-9]|25[0-5])\\\\.){3}\"\\\n",
    "            \"([0-9]|[1-9][0-9]|1[0-9][0-9]|\"\\\n",
    "            \"2[0-4][0-9]|25[0-5])\"\n",
    "     \n",
    "    regex1 = \"((([0-9a-fA-F]){1,4})\\\\:){7}\"\\\n",
    "             \"([0-9a-fA-F]){1,4}\"\n",
    "     \n",
    "    p = re.compile(regex)\n",
    "    p1 = re.compile(regex1)\n",
    " \n",
    "    if (re.search(p, IP)):\n",
    "        return \"Valid IPv4\"\n",
    " \n",
    "    elif (re.search(p1, IP)):\n",
    "        return \"Valid IPv6\"\n",
    " \n",
    "    return \"Invalid IP\"\n",
    " \n",
    "\n",
    " "
   ]
  },
  {
   "cell_type": "code",
   "execution_count": 82,
   "metadata": {},
   "outputs": [
    {
     "name": "stdout",
     "output_type": "stream",
     "text": [
      "Valid IPv4\n",
      "Valid IPv6\n",
      "Invalid IP\n"
     ]
    }
   ],
   "source": [
    "IP = \"203.120.223.13\"\n",
    "print(Validate_IP(IP))\n",
    " \n",
    "IP = \"fffe:3465:efab:23fe:2235:6565:aaab:0001\"\n",
    "print(Validate_IP(IP))\n",
    " \n",
    "IP = \"2F33:12a0:3Ea0:0302\"\n",
    "print(Validate_IP(IP))"
   ]
  },
  {
   "cell_type": "code",
   "execution_count": 83,
   "metadata": {},
   "outputs": [],
   "source": [
    "# Write a function to find and print if a email address given is valid or not\n",
    "\n",
    "import re \n",
    "  \n",
    "regex = '^[a-z0-9]+[\\._]?[a-z0-9]+[@]\\w+[.]\\w{2,3}$'\n",
    "def check(email):   \n",
    "    if(re.search(regex,email)):  \n",
    "        print(\"Valid Email\")  \n",
    "          \n",
    "    else:  \n",
    "        print(\"Invalid Email\")"
   ]
  },
  {
   "cell_type": "code",
   "execution_count": 84,
   "metadata": {},
   "outputs": [
    {
     "name": "stdout",
     "output_type": "stream",
     "text": [
      "Valid Email\n",
      "Valid Email\n",
      "Invalid Email\n"
     ]
    }
   ],
   "source": [
    "email = \"ankitrai326@gmail.com\"\n",
    "check(email) \n",
    "  \n",
    "email = \"my.ownsite@ourearth.org\"\n",
    "check(email) \n",
    "  \n",
    "email = \"ankitrai326.com\"\n",
    "check(email) "
   ]
  },
  {
   "cell_type": "code",
   "execution_count": 86,
   "metadata": {},
   "outputs": [
    {
     "name": "stdout",
     "output_type": "stream",
     "text": [
      "Valid Password\n"
     ]
    }
   ],
   "source": [
    "# Write a program to check and print if the password is valid or not not with given rules 1. Minimum 8 characters.2. The alphabets must be between [a-z] 3.  At least one alphabet should be of Upper Case [A-Z] 4.  At least 1 number or digit between [0-9]. 5. At least 1 character from [ _ or @ or $ ].\n",
    "\n",
    "import re \n",
    "password = \"R@m@_f0rtu9e$\"\n",
    "flag = 0\n",
    "while True:   \n",
    "    if (len(password)<8): \n",
    "        flag = -1\n",
    "        break\n",
    "    elif not re.search(\"[a-z]\", password): \n",
    "        flag = -1\n",
    "        break\n",
    "    elif not re.search(\"[A-Z]\", password): \n",
    "        flag = -1\n",
    "        break\n",
    "    elif not re.search(\"[0-9]\", password): \n",
    "        flag = -1\n",
    "        break\n",
    "    elif not re.search(\"[_@$]\", password): \n",
    "        flag = -1\n",
    "        break\n",
    "    elif re.search(\"\\s\", password): \n",
    "        flag = -1\n",
    "        break\n",
    "    else: \n",
    "        flag = 0\n",
    "        print(\"Valid Password\") \n",
    "        break\n",
    "  \n",
    "if flag ==-1: \n",
    "    print(\"Not a Valid Password\") \n"
   ]
  },
  {
   "cell_type": "code",
   "execution_count": 87,
   "metadata": {},
   "outputs": [],
   "source": [
    "# Write a python function to find and print the largest prime factor of a given number\n",
    "\n",
    "import math \n",
    "  \n",
    "def maxPrimeFactors (n): \n",
    "      \n",
    "    maxPrime = -1\n",
    "      \n",
    "    while n % 2 == 0: \n",
    "        maxPrime = 2\n",
    "        n >>= 1               \n",
    "\n",
    "    for i in range(3, int(math.sqrt(n)) + 1, 2): \n",
    "        while n % i == 0: \n",
    "            maxPrime = i \n",
    "            n = n / i \n",
    "      \n",
    "    if n > 2: \n",
    "        maxPrime = n \n",
    "      \n",
    "    return int(maxPrime) \n",
    "  \n"
   ]
  },
  {
   "cell_type": "code",
   "execution_count": 88,
   "metadata": {},
   "outputs": [
    {
     "name": "stdout",
     "output_type": "stream",
     "text": [
      "5\n",
      "328513\n"
     ]
    }
   ],
   "source": [
    "n = 15\n",
    "print(maxPrimeFactors(n)) \n",
    "  \n",
    "n = 25698751364526\n",
    "print(maxPrimeFactors(n)) "
   ]
  },
  {
   "cell_type": "code",
   "execution_count": 89,
   "metadata": {},
   "outputs": [],
   "source": [
    "# Write a function to determine if a year is leap year or not\n",
    "\n",
    "def is_leap(year):\n",
    "    leap = False\n",
    "    \n",
    "    # Write your logic here\n",
    "    if year % 4 == 0:\n",
    "        if year % 400 == 0:\n",
    "            leap = True\n",
    "        elif year % 100 == 0:\n",
    "            leap = False\n",
    "        else:\n",
    "            leap = True\n",
    "    return leap\n"
   ]
  },
  {
   "cell_type": "code",
   "execution_count": 90,
   "metadata": {},
   "outputs": [
    {
     "name": "stdout",
     "output_type": "stream",
     "text": [
      "True\n",
      "False\n",
      "True\n"
     ]
    }
   ],
   "source": [
    "print(is_leap(2000))\n",
    "print(is_leap(2015))\n",
    "print(is_leap(2020))"
   ]
  },
  {
   "cell_type": "code",
   "execution_count": 93,
   "metadata": {},
   "outputs": [],
   "source": [
    "# Write a python function to generate permuations of a list of given numbers\n",
    "\n",
    "def permute(nums):\n",
    "    def backtrack(first = 0):\n",
    "        if first == n:        \n",
    "            output.append(nums[:])\n",
    "        for i in range(first, n):\n",
    "            nums[first], nums[i] = nums[i], nums[first]\n",
    "\n",
    "            backtrack(first + 1)\n",
    "\n",
    "            nums[first], nums[i] = nums[i], nums[first]\n",
    "         \n",
    "    n = len(nums)\n",
    "    output = []\n",
    "    backtrack()\n",
    "    return output\n"
   ]
  },
  {
   "cell_type": "code",
   "execution_count": 94,
   "metadata": {},
   "outputs": [
    {
     "name": "stdout",
     "output_type": "stream",
     "text": [
      "all_permute:  [[1, 2, 3], [1, 3, 2], [2, 1, 3], [2, 3, 1], [3, 2, 1], [3, 1, 2]]\n"
     ]
    }
   ],
   "source": [
    "all_permute= permute([1,2,3])\n",
    "print(\"all_permute: \", all_permute)"
   ]
  },
  {
   "cell_type": "code",
   "execution_count": 95,
   "metadata": {},
   "outputs": [],
   "source": [
    "# Write a python function to print staircase pattern\n",
    "\n",
    "def pattern(n): \n",
    "  \n",
    "    for i in range(1,n+1):   \n",
    "        # conditional operator \n",
    "        k =i + 1 if(i % 2 != 0) else i   \n",
    "\n",
    "        for g in range(k,n): \n",
    "            if g>=k: \n",
    "                print(end=\"  \") \n",
    "  \n",
    "        for j in range(0,k): \n",
    "            if j == k - 1: \n",
    "                print(\" * \") \n",
    "            else: \n",
    "                print(\" * \", end = \" \") \n",
    "  "
   ]
  },
  {
   "cell_type": "code",
   "execution_count": 97,
   "metadata": {},
   "outputs": [
    {
     "name": "stdout",
     "output_type": "stream",
     "text": [
      "             *   * \n",
      "             *   * \n",
      "         *   *   *   * \n",
      "         *   *   *   * \n",
      "     *   *   *   *   *   * \n",
      "     *   *   *   *   *   * \n",
      " *   *   *   *   *   *   *   * \n",
      " *   *   *   *   *   *   *   * \n"
     ]
    }
   ],
   "source": [
    "pattern(8)"
   ]
  },
  {
   "cell_type": "code",
   "execution_count": 98,
   "metadata": {},
   "outputs": [],
   "source": [
    "# Write a function to find gcd using eucliean algorithm\n",
    "\n",
    "def gcd(a, b):  \n",
    "    if a == 0 : \n",
    "        return b  \n",
    "      \n",
    "    return gcd(b%a, a) "
   ]
  },
  {
   "cell_type": "code",
   "execution_count": 100,
   "metadata": {},
   "outputs": [
    {
     "data": {
      "text/plain": [
       "4"
      ]
     },
     "execution_count": 100,
     "metadata": {},
     "output_type": "execute_result"
    }
   ],
   "source": [
    "gcd(12, 56)"
   ]
  },
  {
   "cell_type": "code",
   "execution_count": 103,
   "metadata": {},
   "outputs": [],
   "source": [
    "# Write a python function to check if number is divisible by all the digits\n",
    "\n",
    "def allDigitsDivide( n) :\n",
    "     \n",
    "    temp = n\n",
    "    while (temp > 0) :\n",
    "        digit = temp % 10\n",
    "        if not (digit != 0 and n % digit == 0) :\n",
    "            return False\n",
    " \n",
    "        temp = temp // 10\n",
    "     \n",
    "    return True"
   ]
  },
  {
   "cell_type": "code",
   "execution_count": 104,
   "metadata": {},
   "outputs": [
    {
     "name": "stdout",
     "output_type": "stream",
     "text": [
      "True\n",
      "False\n"
     ]
    }
   ],
   "source": [
    "print(allDigitsDivide( 128))\n",
    "print(allDigitsDivide( 16))"
   ]
  },
  {
   "cell_type": "code",
   "execution_count": 105,
   "metadata": {},
   "outputs": [
    {
     "name": "stdout",
     "output_type": "stream",
     "text": [
      "[10, 20, 30, 40, 50, 60, 70, 80, 90]\n"
     ]
    }
   ],
   "source": [
    "# Write a python program to flatten  a multidimensional list\n",
    "\n",
    "\n",
    "my_list = [[10,20,30],[40,50,60],[70,80,90]]\n",
    "\n",
    "flattened = [x for temp in my_list for x in temp]\n",
    "print(flattened)\n"
   ]
  },
  {
   "cell_type": "code",
   "execution_count": 107,
   "metadata": {},
   "outputs": [
    {
     "name": "stdout",
     "output_type": "stream",
     "text": [
      "Enter the number to print the tables for:7\n",
      "7 x 1 = 7\n",
      "7 x 2 = 14\n",
      "7 x 3 = 21\n",
      "7 x 4 = 28\n",
      "7 x 5 = 35\n",
      "7 x 6 = 42\n",
      "7 x 7 = 49\n",
      "7 x 8 = 56\n",
      "7 x 9 = 63\n",
      "7 x 10 = 70\n"
     ]
    }
   ],
   "source": [
    "# Write Python Program to Print Table of a Given Number\n",
    "\n",
    "n=int(input(\"Enter the number to print the tables for:\"))\n",
    "for i in range(1,11):\n",
    "    print(n,\"x\",i,\"=\",n*i)"
   ]
  },
  {
   "cell_type": "code",
   "execution_count": 110,
   "metadata": {},
   "outputs": [
    {
     "name": "stdout",
     "output_type": "stream",
     "text": [
      "Enter any number: 6\n",
      "The number is a Perfect number!\n"
     ]
    }
   ],
   "source": [
    "# Write a python program to check and print if the number is a perfect number\n",
    "\n",
    "n = int(input(\"Enter any number: \"))\n",
    "sum1 = 0\n",
    "for i in range(1, n):\n",
    "    if(n % i == 0):\n",
    "        sum1 = sum1 + i\n",
    "if (sum1 == n):\n",
    "    print(\"The number is a Perfect number!\")\n",
    "else:\n",
    "    print(\"The number is not a Perfect number!\")"
   ]
  },
  {
   "cell_type": "code",
   "execution_count": 117,
   "metadata": {},
   "outputs": [],
   "source": [
    "# Write a python function to find and print longest continous odd sequence of a list of numbers given\n",
    "\n",
    "def longest_continuous_odd_subsequence(array):\n",
    "    final_list = []\n",
    "    temp_list = []\n",
    "    for i in array:\n",
    "        if i%2 == 0:\n",
    "            if temp_list != []:\n",
    "                final_list.append(temp_list)\n",
    "            temp_list = []\n",
    "        else:\n",
    "            temp_list.append(i)\n",
    "\n",
    "    if temp_list != []:\n",
    "        final_list.append(temp_list)\n",
    "\n",
    "    result = max(final_list, key=len)\n",
    "    print(result)\n",
    "\n"
   ]
  },
  {
   "cell_type": "code",
   "execution_count": 118,
   "metadata": {},
   "outputs": [
    {
     "name": "stdout",
     "output_type": "stream",
     "text": [
      "[1, 3, 5, 7, 7, 1]\n"
     ]
    }
   ],
   "source": [
    "array = [2, 6, 8, 3, 9, 1, 5, 6, 1, 3, 5, 7, 7, 1, 2, 3, 4, 5]\n",
    "longest_continuous_odd_subsequence(array)"
   ]
  },
  {
   "cell_type": "code",
   "execution_count": 113,
   "metadata": {},
   "outputs": [],
   "source": [
    "# Write a function to determine longest increasing subsequence of a list of numbers given\n",
    "\n",
    "def longest_increaing_subsequence(myList):\n",
    "\n",
    "    lis = [1] * len(myList)\n",
    "\n",
    "    elements = [0] * len(myList)\n",
    "\n",
    "    for i in range (1 , len(myList)):\n",
    "        for j in range(0 , i):\n",
    "            if myList[i] > myList[j] and lis[i]< lis[j] + 1:\n",
    "                lis[i] = lis[j]+1\n",
    "                elements[i] = j\n",
    "    idx = 0\n",
    "\n",
    "\n",
    "    maximum = max(lis)              \n",
    "    idx = lis.index(maximum)\n",
    "\n",
    "\n",
    "    seq = [myList[idx]]\n",
    "    while idx != elements[idx]:\n",
    "        idx = elements[idx]\n",
    "        seq.append(myList[idx])\n",
    "\n",
    "    return (maximum, reversed(seq))\n",
    "\n",
    "\n"
   ]
  },
  {
   "cell_type": "code",
   "execution_count": 114,
   "metadata": {},
   "outputs": [
    {
     "name": "stdout",
     "output_type": "stream",
     "text": [
      "The longest sequence is 10, 22, 33, 50, 60\n"
     ]
    }
   ],
   "source": [
    "myList = [10, 22, 9, 33, 21, 50, 41, 60]\n",
    "ans = longest_increaing_subsequence(myList)\n",
    "print ('The longest sequence is', ', '.join(str(x) for x in ans[1]))"
   ]
  },
  {
   "cell_type": "code",
   "execution_count": 119,
   "metadata": {},
   "outputs": [],
   "source": [
    "# Write function for performing heapsort on a list of numbers given\n",
    "\n",
    "\n",
    "def heapify(nums, heap_size, root_index):\n",
    "    largest = root_index\n",
    "    left_child = (2 * root_index) + 1\n",
    "    right_child = (2 * root_index) + 2\n",
    "\n",
    "    if left_child < heap_size and nums[left_child] > nums[largest]:\n",
    "        largest = left_child\n",
    "\n",
    "    if right_child < heap_size and nums[right_child] > nums[largest]:\n",
    "        largest = right_child\n",
    "\n",
    "    if largest != root_index:\n",
    "        nums[root_index], nums[largest] = nums[largest], nums[root_index]\n",
    "        heapify(nums, heap_size, largest)\n",
    "\n",
    "\n",
    "def heap_sort(nums):\n",
    "    n = len(nums)\n",
    "    \n",
    "    for i in range(n, -1, -1):\n",
    "        heapify(nums, n, i)\n",
    "\n",
    "    # Move the root of the max heap to the end of\n",
    "    for i in range(n - 1, 0, -1):\n",
    "        nums[i], nums[0] = nums[0], nums[i]\n",
    "        heapify(nums, i, 0)\n",
    "\n"
   ]
  },
  {
   "cell_type": "code",
   "execution_count": 120,
   "metadata": {},
   "outputs": [
    {
     "name": "stdout",
     "output_type": "stream",
     "text": [
      "[8, 12, 35, 43, 51]\n"
     ]
    }
   ],
   "source": [
    "random_list_of_nums = [35, 12, 43, 8, 51]\n",
    "heap_sort(random_list_of_nums)\n",
    "print(random_list_of_nums)"
   ]
  },
  {
   "cell_type": "code",
   "execution_count": 126,
   "metadata": {},
   "outputs": [],
   "source": [
    "# Write a function to perform quicksort sort on a list of numbers given\n",
    "\n",
    "def partition(array, low, high):\n",
    "    i = low - 1            # index of smaller element\n",
    "    pivot = array[high]    # pivot \n",
    "    \n",
    "    for j in range(low, high):\n",
    "       \n",
    "        if array[j] < pivot:\n",
    "    \n",
    "            i += 1\n",
    "            array[i], array[j] = array[j], array[i]\n",
    "            \n",
    "    array[i + 1], array[high] = array[high], array[i + 1]\n",
    "    return i + 1\n",
    "\n",
    "def quick_sort(array, low, high):\n",
    "    if low < high:\n",
    "        temp = partition(array, low, high)\n",
    "        quick_sort(array, low, temp - 1)\n",
    "        quick_sort(array, temp + 1, high)\n"
   ]
  },
  {
   "cell_type": "code",
   "execution_count": 128,
   "metadata": {},
   "outputs": [
    {
     "name": "stdout",
     "output_type": "stream",
     "text": [
      "[8, 12, 35, 43, 51]\n"
     ]
    }
   ],
   "source": [
    "random_list_of_nums = [35, 12, 43, 8, 51]\n",
    "quick_sort(random_list_of_nums, 0, len(random_list_of_nums)-1)\n",
    "print(random_list_of_nums)"
   ]
  },
  {
   "cell_type": "code",
   "execution_count": 132,
   "metadata": {},
   "outputs": [],
   "source": [
    "# Given a decimal number N, write functions check and print if a number has consecutive zeroes or not after converting the number to its K-based notation.\n",
    "\n",
    "def hasConsecutiveZeroes(N, K): \n",
    "    z = toK(N, K) \n",
    "    if (check(z)): \n",
    "        print(\"Yes\") \n",
    "    else: \n",
    "        print(\"No\") \n",
    "  \n",
    "def toK(N, K): \n",
    "  \n",
    "    w = 1\n",
    "    s = 0\n",
    "    while (N != 0): \n",
    "        r = N % K \n",
    "        N = N//K \n",
    "        s = r * w + s \n",
    "        w *= 10\n",
    "    return s \n",
    "  \n",
    "def check(N): \n",
    "\n",
    "    fl = False\n",
    "    while (N != 0): \n",
    "        r = N % 10\n",
    "        N = N//10\n",
    "  \n",
    "        if (fl == True and r == 0): \n",
    "            return False\n",
    "        if (r > 0): \n",
    "            fl = False\n",
    "            continue\n",
    "        fl = True\n",
    "    return True\n",
    "  \n",
    "\n"
   ]
  },
  {
   "cell_type": "code",
   "execution_count": 133,
   "metadata": {},
   "outputs": [
    {
     "name": "stdout",
     "output_type": "stream",
     "text": [
      "Yes\n"
     ]
    }
   ],
   "source": [
    "N, K = 15, 8\n",
    "hasConsecutiveZeroes(N, K) \n"
   ]
  },
  {
   "cell_type": "code",
   "execution_count": 134,
   "metadata": {},
   "outputs": [],
   "source": [
    "# Write a class to implement circular queue with methods enqueue, dequeue\n",
    "\n",
    "class CircularQueue(object):\n",
    "    def __init__(self, limit = 10):\n",
    "        self.limit = limit\n",
    "        self.queue = [None for i in range(limit)]  \n",
    "        self.front = self.rear = -1\n",
    "\n",
    "    def __str__(self):\n",
    "        if (self.rear >= self.front):\n",
    "            return ' '.join([str(self.queue[i]) for i in range(self.front, self.rear + 1)])\n",
    "  \n",
    "        else: \n",
    "            q1 = ' '.join([str(self.queue[i]) for i in range(self.front, self.limit)])\n",
    "            q2 = ' '.join([str(self.queue[i]) for i in range(0, self.rear + 1)])\n",
    "            return q1 + ' ' + q2\n",
    "\n",
    "    def isEmpty(self):\n",
    "        return self.front == -1\n",
    "\n",
    "    def isFull(self):\n",
    "        return (self.rear + 1) % self.limit == self.front\n",
    "\n",
    "    def enqueue(self, data):\n",
    "        if self.isFull():\n",
    "            print('Queue is Full!')\n",
    "        elif self.isEmpty():\n",
    "            self.front = 0\n",
    "            self.rear = 0\n",
    "            self.queue[self.rear] = data\n",
    "        else:\n",
    "            self.rear = (self.rear + 1) % self.limit  \n",
    "            self.queue[self.rear] = data \n",
    "\n",
    "    def dequeue(self):\n",
    "        if self.isEmpty():\n",
    "            print('Queue is Empty!')\n",
    "        elif (self.front == self.rear):  \n",
    "            self.front = -1\n",
    "            self.rear = -1\n",
    "        else:\n",
    "            self.front = (self.front + 1) % self.limit "
   ]
  },
  {
   "cell_type": "code",
   "execution_count": 135,
   "metadata": {},
   "outputs": [
    {
     "name": "stdout",
     "output_type": "stream",
     "text": [
      "Queue: 14 22 13 16\n",
      "Queue: 13 16\n",
      "Queue is Full!\n",
      "Queue: 13 16 9 20 5\n"
     ]
    }
   ],
   "source": [
    "myCQ = CircularQueue(5)\n",
    "myCQ.enqueue(14)\n",
    "myCQ.enqueue(22)\n",
    "myCQ.enqueue(13)\n",
    "myCQ.enqueue(16)\n",
    "print('Queue:',myCQ)\n",
    "myCQ.dequeue()\n",
    "myCQ.dequeue()\n",
    "print('Queue:',myCQ)\n",
    "myCQ.enqueue(9)\n",
    "myCQ.enqueue(20)\n",
    "myCQ.enqueue(5)\n",
    "myCQ.enqueue(5)\n",
    "print('Queue:',myCQ)"
   ]
  },
  {
   "cell_type": "code",
   "execution_count": 136,
   "metadata": {},
   "outputs": [],
   "source": [
    "# Write a python class to implement Deque where elements can be added and deleted both ends\n",
    "\n",
    "class Deque(object):\n",
    "    def __init__(self, limit = 10):\n",
    "        self.queue = []\n",
    "        self.limit = limit\n",
    "\n",
    "    def __str__(self):\n",
    "        return ' '.join([str(i) for i in self.queue])\n",
    "\n",
    "    def isEmpty(self):\n",
    "        return len(self.queue) <= 0\n",
    "\n",
    "    def isFull(self):\n",
    "        return len(self.queue) >= self.limit\n",
    "\n",
    "    def insertRear(self, data):\n",
    "        if self.isFull():\n",
    "            return\n",
    "        else:\n",
    "            self.queue.insert(0, data)\n",
    "\n",
    "    def insertFront(self, data):\n",
    "        if self.isFull():\n",
    "            return\n",
    "        else:\n",
    "            self.queue.append(data)\n",
    "\n",
    "    def deleteRear(self):\n",
    "        if self.isEmpty():\n",
    "            return\n",
    "        else:\n",
    "            return self.queue.pop(0)\n",
    "\n",
    "    # deleting from front end\n",
    "    def deleteFront(self):\n",
    "        if self.isFull():\n",
    "            return\n",
    "        else:\n",
    "            return self.queue.pop()\n",
    "\n"
   ]
  },
  {
   "cell_type": "code",
   "execution_count": 137,
   "metadata": {},
   "outputs": [
    {
     "name": "stdout",
     "output_type": "stream",
     "text": [
      "10 2 1 3\n",
      "2 1 3\n",
      "2 1\n"
     ]
    }
   ],
   "source": [
    "myDeque = Deque()\n",
    "myDeque.insertFront(1)    # 1\n",
    "myDeque.insertRear(2)     # 2 1\n",
    "myDeque.insertFront(3)    # 2 1 3\n",
    "myDeque.insertRear(10)    #10 2 1 3\n",
    "print(myDeque)\n",
    "myDeque.deleteRear()      # 2 1 3\n",
    "print(myDeque)\n",
    "myDeque.deleteFront()     # 2 1\n",
    "print(myDeque)"
   ]
  },
  {
   "cell_type": "code",
   "execution_count": 1,
   "metadata": {},
   "outputs": [],
   "source": [
    "# Write a python class to implement PriorityQueue\n",
    "\n",
    "class PriorityQueue(object):\n",
    "    def __init__(self):\n",
    "        self.queue = []\n",
    "\n",
    "    def __str__(self):\n",
    "        return ' '.join([str(i) for i in self.queue])\n",
    "\n",
    "    # for checking if the queue is empty\n",
    "    def isEmpty(self):\n",
    "        return len(self.queue) == []\n",
    "\n",
    "    # for inserting an element in the queue\n",
    "    def insert(self, data):\n",
    "        self.queue.append(data)\n",
    "\n",
    "    # for popping an element based on Priority\n",
    "    def delete(self):\n",
    "        try:\n",
    "            max = 0\n",
    "            for i in range(len(self.queue)):\n",
    "                if self.queue[i] > self.queue[max]:\n",
    "                    max = i\n",
    "            item = self.queue[max]\n",
    "            del self.queue[max]\n",
    "            return item\n",
    "        except IndexError:\n",
    "            print()\n",
    "            exit()\n",
    "\n"
   ]
  },
  {
   "cell_type": "code",
   "execution_count": 2,
   "metadata": {},
   "outputs": [
    {
     "name": "stdout",
     "output_type": "stream",
     "text": [
      "12 1 14 7\n"
     ]
    }
   ],
   "source": [
    "myQueue = PriorityQueue()\n",
    "myQueue.insert(12)\n",
    "myQueue.insert(1)\n",
    "myQueue.insert(14)\n",
    "myQueue.insert(7)\n",
    "print(myQueue)               # 12 1 14 7\n"
   ]
  },
  {
   "cell_type": "code",
   "execution_count": 3,
   "metadata": {},
   "outputs": [],
   "source": [
    "# Write a python function to return minimum sum of factors of a number\n",
    "\n",
    "def findMinSum(num): \n",
    "    sum = 0\n",
    "      \n",
    "    i = 2\n",
    "    while(i * i <= num): \n",
    "        while(num % i == 0): \n",
    "            sum += i \n",
    "            num /= i \n",
    "        i += 1\n",
    "    sum += num \n",
    "      \n",
    "\n",
    "    return sum\n"
   ]
  },
  {
   "cell_type": "code",
   "execution_count": 4,
   "metadata": {},
   "outputs": [
    {
     "name": "stdout",
     "output_type": "stream",
     "text": [
      "7.0\n"
     ]
    }
   ],
   "source": [
    "print(findMinSum(12))"
   ]
  },
  {
   "cell_type": "code",
   "execution_count": 5,
   "metadata": {},
   "outputs": [],
   "source": [
    "# Write a function to check and print if a string starts with a substring using regex in Python\n",
    "\n",
    "import re \n",
    "  \n",
    "  \n",
    "def find(string, sample) :    \n",
    "\n",
    "  if (sample in string): \n",
    "  \n",
    "      y = \"^\" + sample \n",
    "  \n",
    "      x = re.search(y, string) \n",
    "  \n",
    "      if x : \n",
    "          print(\"string starts with the given substring\") \n",
    "  \n",
    "      else : \n",
    "          print(\"string doesn't start with the given substring\") \n",
    "  \n",
    "  else : \n",
    "      print(\"entered string isn't a substring\") \n",
    "  \n",
    "  \n",
    "\n",
    "\n"
   ]
  },
  {
   "cell_type": "code",
   "execution_count": 6,
   "metadata": {},
   "outputs": [
    {
     "name": "stdout",
     "output_type": "stream",
     "text": [
      "string starts with the given substring\n"
     ]
    }
   ],
   "source": [
    "\n",
    "string = \"India is a great country\"  \n",
    "sample = \"India\"\n",
    "  \n",
    "# function call \n",
    "find(string, sample) \n"
   ]
  },
  {
   "cell_type": "code",
   "execution_count": 7,
   "metadata": {},
   "outputs": [
    {
     "name": "stdout",
     "output_type": "stream",
     "text": [
      "4 5 6 8 3 8 1 8 7 5 "
     ]
    }
   ],
   "source": [
    "# Write a python program to print square matrix in Z form\n",
    "\n",
    "arr = [[4, 5, 6, 8],  \n",
    "        [1, 2, 3, 1],  \n",
    "        [7, 8, 9, 4],  \n",
    "        [1, 8, 7, 5]] \n",
    "  \n",
    "n = len(arr[0]) \n",
    "                   \n",
    "i=0\n",
    "for j in range(0, n-1): \n",
    "    print(arr[i][j], end =\" \")  \n",
    "          \n",
    "k = 1\n",
    "for i in range(0, n): \n",
    "    for j in range(n, 0, -1): \n",
    "        if(j==n-k): \n",
    "            print(arr[i][j], end = \" \")  \n",
    "            break;  \n",
    "    k+=1\n",
    "  \n",
    "\n",
    "i=n-1;  \n",
    "for j in range(0, n): \n",
    "    print(arr[i][j], end = \" \") \n",
    "  "
   ]
  },
  {
   "cell_type": "code",
   "execution_count": 8,
   "metadata": {},
   "outputs": [],
   "source": [
    "# Python code to calculate number of ways of selecting p non  consecutive stations out of n stations \n",
    "  \n",
    "def stopping_station( p, n): \n",
    "    num = 1\n",
    "    dem = 1\n",
    "    s = p \n",
    "  \n",
    "    while p != 1: \n",
    "        dem *= p \n",
    "        p-=1\n",
    "      \n",
    "    t = n - s + 1\n",
    "    while t != (n-2 * s + 1): \n",
    "        num *= t \n",
    "        t-=1\n",
    "    if (n - s + 1) >= s: \n",
    "        return int(num/dem) \n",
    "    else: \n",
    "\n",
    "        return -1\n",
    "  \n"
   ]
  },
  {
   "cell_type": "code",
   "execution_count": 9,
   "metadata": {},
   "outputs": [
    {
     "name": "stdout",
     "output_type": "stream",
     "text": [
      "126\n"
     ]
    }
   ],
   "source": [
    "num = stopping_station(4, 12) \n",
    "if num != -1: \n",
    "    print(num) \n",
    "else: \n",
    "    print(\"Not Possible\") "
   ]
  },
  {
   "cell_type": "code",
   "execution_count": 10,
   "metadata": {},
   "outputs": [
    {
     "name": "stdout",
     "output_type": "stream",
     "text": [
      "The solution are (-3+0j) and (-2+0j)\n"
     ]
    }
   ],
   "source": [
    "# Write a python program to solve and print the solution for the quadratic equation ax**2 + bx + c = 0\n",
    "\n",
    "import cmath\n",
    "\n",
    "a = 1\n",
    "b = 5\n",
    "c = 6\n",
    "\n",
    "# calculate the discriminant\n",
    "d = (b**2) - (4*a*c)\n",
    "\n",
    "# find two solutions\n",
    "sol1 = (-b-cmath.sqrt(d))/(2*a)\n",
    "sol2 = (-b+cmath.sqrt(d))/(2*a)\n",
    "\n",
    "print('The solution are {0} and {1}'.format(sol1,sol2))"
   ]
  },
  {
   "cell_type": "code",
   "execution_count": 11,
   "metadata": {},
   "outputs": [
    {
     "name": "stdout",
     "output_type": "stream",
     "text": [
      "The total terms are: 10\n",
      "2 raised to power 0 is 1\n",
      "2 raised to power 1 is 2\n",
      "2 raised to power 2 is 4\n",
      "2 raised to power 3 is 8\n",
      "2 raised to power 4 is 16\n",
      "2 raised to power 5 is 32\n",
      "2 raised to power 6 is 64\n",
      "2 raised to power 7 is 128\n",
      "2 raised to power 8 is 256\n",
      "2 raised to power 9 is 512\n"
     ]
    }
   ],
   "source": [
    "# Write a program to print the powers of 2 using anonymous function\n",
    "\n",
    "terms = 10\n",
    "\n",
    "result = list(map(lambda x: 2 ** x, range(terms)))\n",
    "\n",
    "print(\"The total terms are:\",terms)\n",
    "for i in range(terms):\n",
    "   print(\"2 raised to power\",i,\"is\",result[i])"
   ]
  },
  {
   "cell_type": "code",
   "execution_count": 12,
   "metadata": {},
   "outputs": [],
   "source": [
    "# Write a python function to find the L.C.M. of two input number\n",
    "\n",
    "def compute_lcm(x, y):\n",
    "\n",
    "   # choose the greater number\n",
    "   if x > y:\n",
    "       greater = x\n",
    "   else:\n",
    "       greater = y\n",
    "\n",
    "   while(True):\n",
    "       if((greater % x == 0) and (greater % y == 0)):\n",
    "           lcm = greater\n",
    "           break\n",
    "       greater += 1\n",
    "\n",
    "   return lcm\n",
    "\n"
   ]
  },
  {
   "cell_type": "code",
   "execution_count": 13,
   "metadata": {},
   "outputs": [
    {
     "name": "stdout",
     "output_type": "stream",
     "text": [
      "The L.C.M. is 216\n"
     ]
    }
   ],
   "source": [
    "num1 = 54\n",
    "num2 = 24\n",
    "\n",
    "print(\"The L.C.M. is\", compute_lcm(num1, num2))"
   ]
  },
  {
   "cell_type": "code",
   "execution_count": 14,
   "metadata": {},
   "outputs": [
    {
     "name": "stdout",
     "output_type": "stream",
     "text": [
      "You got:\n",
      "6 of Diamond\n",
      "1 of Club\n",
      "12 of Heart\n",
      "7 of Club\n",
      "10 of Diamond\n"
     ]
    }
   ],
   "source": [
    "# Write a Python program to shuffle and print a deck of card\n",
    "\n",
    "import itertools, random\n",
    "\n",
    "deck = list(itertools.product(range(1,14),['Spade','Heart','Diamond','Club']))\n",
    "\n",
    "random.shuffle(deck)\n",
    "\n",
    "# draw five cards\n",
    "print(\"You got:\")\n",
    "for i in range(5):\n",
    "   print(deck[i][0], \"of\", deck[i][1])\n"
   ]
  },
  {
   "cell_type": "code",
   "execution_count": 15,
   "metadata": {},
   "outputs": [
    {
     "name": "stdout",
     "output_type": "stream",
     "text": [
      "The sorted words are:\n",
      "an\n",
      "cased\n",
      "example\n",
      "hello\n",
      "is\n",
      "letters\n",
      "this\n",
      "with\n"
     ]
    }
   ],
   "source": [
    "# Write a program to sort alphabetically the words form a string provided by the user\n",
    "\n",
    "my_str = \"Hello this Is an Example With cased letters\"\n",
    "\n",
    "words = [word.lower() for word in my_str.split()]\n",
    "\n",
    "words.sort()\n",
    "\n",
    "\n",
    "print(\"The sorted words are:\")\n",
    "for word in words:\n",
    "   print(word)"
   ]
  },
  {
   "cell_type": "code",
   "execution_count": 16,
   "metadata": {},
   "outputs": [
    {
     "name": "stdout",
     "output_type": "stream",
     "text": [
      "Hello he said and went\n"
     ]
    }
   ],
   "source": [
    "# Write a program to remove punctuations from a sentence\n",
    "\n",
    "punctuations = '''!()-[]{};:'\"\\,<>./?@#$%^&*_~'''\n",
    "\n",
    "my_str = \"Hello!!!, he said ---and went.\"\n",
    "\n",
    "no_punct = \"\"\n",
    "for char in my_str:\n",
    "   if char not in punctuations:\n",
    "       no_punct = no_punct + char\n",
    "\n",
    "print(no_punct)"
   ]
  },
  {
   "cell_type": "code",
   "execution_count": 17,
   "metadata": {},
   "outputs": [],
   "source": [
    "# Write a python  program to check and print Yes/No if a triangle  of positive area is possible with the given angles \n",
    "  \n",
    "def isTriangleExists(a, b, c): \n",
    "    # Checking if the sum of three  \n",
    "    # angles is 180 and none of  \n",
    "    # the angles is zero \n",
    "    if(a != 0 and b != 0 and c != 0 and (a + b + c)== 180): \n",
    "        # Checking if sum of any two angles \n",
    "        # is greater than equal to the third one \n",
    "        if((a + b)>= c or (b + c)>= a or (a + c)>= b): \n",
    "            return \"YES\"\n",
    "        else: \n",
    "            return \"NO\"\n",
    "    else: \n",
    "        return \"NO\"\n",
    "  \n"
   ]
  },
  {
   "cell_type": "code",
   "execution_count": 18,
   "metadata": {},
   "outputs": [
    {
     "name": "stdout",
     "output_type": "stream",
     "text": [
      "YES\n"
     ]
    }
   ],
   "source": [
    "\n",
    "print(isTriangleExists(50, 60, 70)) \n"
   ]
  },
  {
   "cell_type": "code",
   "execution_count": 20,
   "metadata": {},
   "outputs": [
    {
     "name": "stdout",
     "output_type": "stream",
     "text": [
      "[3, 4, 5, 1, 2]\n"
     ]
    }
   ],
   "source": [
    "# Write a program to rotate and print elements of a list\n",
    "\n",
    "arr = [1, 2, 3, 4, 5];     \n",
    "  \n",
    "n = 3;    \n",
    "     \n",
    "     \n",
    "  \n",
    "for i in range(0, n):    \n",
    "    #Stores the last element of array    \n",
    "    last = arr[len(arr)-1];    \n",
    "        \n",
    "    for j in range(len(arr)-1, -1, -1):    \n",
    "        #Shift element of array by one    \n",
    "        arr[j] = arr[j-1];    \n",
    "            \n",
    "       \n",
    "    arr[0] = last; \n",
    "    \n",
    "print(arr)"
   ]
  },
  {
   "cell_type": "code",
   "execution_count": 22,
   "metadata": {},
   "outputs": [
    {
     "name": "stdout",
     "output_type": "stream",
     "text": [
      "156 is a harshad number\n"
     ]
    }
   ],
   "source": [
    "# Write a program to find and print if a number is a Harshad number\n",
    "\n",
    "num = 156;    \n",
    "rem = sum = 0;    \n",
    "     \n",
    "  \n",
    "n = num;    \n",
    "     \n",
    " \n",
    "while(num > 0):    \n",
    "    rem = num%10;    \n",
    "    sum = sum + rem;    \n",
    "    num = num//10;    \n",
    "     \n",
    "\n",
    "if(n%sum == 0):    \n",
    "    print(str(n) + \" is a harshad number\")    \n",
    "else:    \n",
    "    print(str(n) + \" is not a harshad number\")"
   ]
  },
  {
   "cell_type": "code",
   "execution_count": 23,
   "metadata": {},
   "outputs": [
    {
     "name": "stdout",
     "output_type": "stream",
     "text": [
      "Array after left rotation: \n",
      "4\n",
      "5\n",
      "1\n",
      "2\n",
      "3\n"
     ]
    }
   ],
   "source": [
    "# Write a program to left rotate and print a list given\n",
    "\n",
    "arr = [1, 2, 3, 4, 5];     \n",
    "  \n",
    "n = 3;    \n",
    "     \n",
    " \n",
    "for i in range(0, n):    \n",
    "    first = arr[0];    \n",
    "        \n",
    "    for j in range(0, len(arr)-1):    \n",
    "  \n",
    "        arr[j] = arr[j+1];    \n",
    "            \n",
    " \n",
    "    arr[len(arr)-1] = first;    \n",
    "     \n",
    "  \n",
    "print(\"Array after left rotation: \");    \n",
    "for i in range(0, len(arr)):    \n",
    "    print(arr[i]),  "
   ]
  },
  {
   "cell_type": "code",
   "execution_count": 24,
   "metadata": {},
   "outputs": [],
   "source": [
    "# Write a python function to implement 0/1 Knapsack problem\n",
    "\n",
    "def knapSack(W, wt, val, n): \n",
    "  \n",
    "    # Base Case \n",
    "    if n == 0 or W == 0 : \n",
    "        return 0\n",
    "  \n",
    "    if (wt[n-1] > W): \n",
    "        return knapSack(W, wt, val, n-1) \n",
    "  \n",
    "    else: \n",
    "        return max(val[n-1] + knapSack(W-wt[n-1], wt, val, n-1), \n",
    "                   knapSack(W, wt, val, n-1))  \n",
    "\n",
    "  \n"
   ]
  },
  {
   "cell_type": "code",
   "execution_count": 26,
   "metadata": {},
   "outputs": [
    {
     "name": "stdout",
     "output_type": "stream",
     "text": [
      "220\n"
     ]
    }
   ],
   "source": [
    "# To test above function \n",
    "val = [60, 100, 120] \n",
    "wt = [10, 20, 30] \n",
    "W = 50\n",
    "n = len(val) \n",
    "print(knapSack(W, wt, val, n)) "
   ]
  },
  {
   "cell_type": "code",
   "execution_count": 28,
   "metadata": {},
   "outputs": [],
   "source": [
    "# Write a function to find out if permutations of a given string is a palindrome\n",
    "\n",
    "def has_palindrome_permutation(the_string):\n",
    "    unpaired_characters = set()\n",
    "\n",
    "    for char in the_string:\n",
    "        if char in unpaired_characters:\n",
    "            unpaired_characters.remove(char)\n",
    "        else:\n",
    "            unpaired_characters.add(char)\n",
    "\n",
    "\n",
    "    return len(unpaired_characters) <= 1"
   ]
  },
  {
   "cell_type": "code",
   "execution_count": 29,
   "metadata": {},
   "outputs": [
    {
     "name": "stdout",
     "output_type": "stream",
     "text": [
      "True\n",
      "False\n"
     ]
    }
   ],
   "source": [
    "print(has_palindrome_permutation(\"ivicc\"))\n",
    "print(has_palindrome_permutation(\"civil\"))"
   ]
  },
  {
   "cell_type": "code",
   "execution_count": 34,
   "metadata": {},
   "outputs": [],
   "source": [
    "# Write a python function to determine optimal buy and sell time of stocks given stocks for yesterday\n",
    "\n",
    "def get_max_profit(stock_prices):\n",
    "    max_profit = 0\n",
    "\n",
    "    for outer_time in range(len(stock_prices)):\n",
    "\n",
    "        for inner_time in range(len(stock_prices)):\n",
    "            earlier_time = min(outer_time, inner_time)\n",
    "            later_time   = max(outer_time, inner_time)\n",
    "\n",
    "            earlier_price = stock_prices[earlier_time]\n",
    "            later_price   = stock_prices[later_time]\n",
    "\n",
    "            potential_profit = later_price - earlier_price\n",
    "\n",
    "            max_profit = max(max_profit, potential_profit)\n",
    "\n",
    "    return max_profit\n"
   ]
  },
  {
   "cell_type": "code",
   "execution_count": 35,
   "metadata": {},
   "outputs": [
    {
     "name": "stdout",
     "output_type": "stream",
     "text": [
      "6\n"
     ]
    }
   ],
   "source": [
    "stock_prices = [10, 7, 5, 8, 11, 9]\n",
    "\n",
    "print(get_max_profit(stock_prices))"
   ]
  },
  {
   "cell_type": "code",
   "execution_count": 36,
   "metadata": {},
   "outputs": [],
   "source": [
    "# Write a python function to check if cafe orders are served in the same order they are paid for\n",
    "\n",
    "def is_first_come_first_served(take_out_orders, dine_in_orders, served_orders):\n",
    "    # Base case\n",
    "    if len(served_orders) == 0:\n",
    "        return True\n",
    "\n",
    "\n",
    "    if len(take_out_orders) and take_out_orders[0] == served_orders[0]:\n",
    "        return is_first_come_first_served(take_out_orders[1:], dine_in_orders, served_orders[1:])\n",
    "\n",
    "\n",
    "    elif len(dine_in_orders) and dine_in_orders[0] == served_orders[0]:\n",
    "        return is_first_come_first_served(take_out_orders, dine_in_orders[1:], served_orders[1:])\n",
    "\n",
    "\n",
    "    else:\n",
    "        return False"
   ]
  },
  {
   "cell_type": "code",
   "execution_count": 37,
   "metadata": {},
   "outputs": [
    {
     "name": "stdout",
     "output_type": "stream",
     "text": [
      "True\n"
     ]
    }
   ],
   "source": [
    "take_out_orders = [17, 8, 24]\n",
    "dine_in_orders = [12, 19, 2]\n",
    "served_orders = [17, 8, 12, 19, 24, 2]\n",
    "\n",
    "print(is_first_come_first_served(take_out_orders, dine_in_orders, served_orders))"
   ]
  },
  {
   "cell_type": "code",
   "execution_count": 38,
   "metadata": {},
   "outputs": [],
   "source": [
    "# Write a function to merge meeting times given everyone's schedules\n",
    "\n",
    "def merge_ranges(meetings):\n",
    "    sorted_meetings = sorted(meetings)\n",
    "\n",
    "    merged_meetings = [sorted_meetings[0]]\n",
    "\n",
    "    for current_meeting_start, current_meeting_end in sorted_meetings[1:]:\n",
    "        last_merged_meeting_start, last_merged_meeting_end = merged_meetings[-1]\n",
    "\n",
    "        if (current_meeting_start <= last_merged_meeting_end):\n",
    "            merged_meetings[-1] = (last_merged_meeting_start,\n",
    "                                   max(last_merged_meeting_end,\n",
    "                                       current_meeting_end))\n",
    "        else:\n",
    "            merged_meetings.append((current_meeting_start, current_meeting_end))\n",
    "\n",
    "    return merged_meetings"
   ]
  },
  {
   "cell_type": "code",
   "execution_count": 39,
   "metadata": {},
   "outputs": [
    {
     "name": "stdout",
     "output_type": "stream",
     "text": [
      "[(1, 10)]\n"
     ]
    }
   ],
   "source": [
    "meetings =   [(1, 10), (2, 6), (3, 5), (7, 9)]\n",
    "print(merge_ranges(meetings))"
   ]
  },
  {
   "cell_type": "code",
   "execution_count": 42,
   "metadata": {},
   "outputs": [],
   "source": [
    "# Write a python function which accepts or discard only string ending with alphanumeric character\n",
    "\n",
    "import re \n",
    "  \n",
    "\n",
    "regex = '[a-zA-z0-9]$'\n",
    "      \n",
    "def check(string):\n",
    "    if(re.search(regex, string)):  \n",
    "        print(\"Accept\")          \n",
    "    else:  \n",
    "        print(\"Discard\")  "
   ]
  },
  {
   "cell_type": "code",
   "execution_count": 43,
   "metadata": {},
   "outputs": [
    {
     "name": "stdout",
     "output_type": "stream",
     "text": [
      "Discard\n",
      "Accept\n"
     ]
    }
   ],
   "source": [
    "string = \"ankirai@\"\n",
    "check(string) \n",
    "  \n",
    "string = \"ankitrai326\"\n",
    "check(string) "
   ]
  },
  {
   "cell_type": "code",
   "execution_count": 55,
   "metadata": {},
   "outputs": [
    {
     "name": "stdout",
     "output_type": "stream",
     "text": [
      "Enter a number n: 5\n",
      "The value is: 615\n"
     ]
    }
   ],
   "source": [
    "# Write a python program to accept a number n and calculate n+nn+nn\n",
    "\n",
    "n=int(input(\"Enter a number n: \"))\n",
    "temp=str(n)\n",
    "t1=temp+temp\n",
    "t2=temp+temp+temp\n",
    "comp=n+int(t1)+int(t2)\n",
    "print(\"The value is:\",comp)"
   ]
  },
  {
   "cell_type": "code",
   "execution_count": 56,
   "metadata": {},
   "outputs": [
    {
     "name": "stdout",
     "output_type": "stream",
     "text": [
      "Enter number of rows: 6\n",
      "******\n",
      " *****\n",
      "  ****\n",
      "   ***\n",
      "    **\n",
      "     *\n"
     ]
    }
   ],
   "source": [
    "# Write a program to accept a number and print inverted star pattern\n",
    "\n",
    "n=int(input(\"Enter number of rows: \"))\n",
    "for i in range (n,0,-1):\n",
    "    print((n-i) * ' ' + i * '*')"
   ]
  },
  {
   "cell_type": "code",
   "execution_count": 57,
   "metadata": {},
   "outputs": [
    {
     "name": "stdout",
     "output_type": "stream",
     "text": [
      "Enter upper limit of range: 30\n",
      "2\t3\t5\t7\t11\t13\t17\t19\t23\t29\t\n"
     ]
    }
   ],
   "source": [
    "# Write a program to print prime numbers in a range using Sieve of Eratosthenes.\n",
    "\n",
    "n=int(input(\"Enter upper limit of range: \"))\n",
    "sieve=set(range(2,n+1))\n",
    "while sieve:\n",
    "    prime=min(sieve)\n",
    "    print(prime,end=\"\\t\")\n",
    "    sieve-=set(range(prime,n+1,prime))\n",
    " \n",
    "print()"
   ]
  },
  {
   "cell_type": "code",
   "execution_count": 1,
   "metadata": {},
   "outputs": [],
   "source": [
    "# Write function to generate valid parenthesis, number of parenthesis is given as input\n",
    "\n",
    "def generateParenthesis(n):\n",
    "        \n",
    "    def backtrack(S='', left=0, right=0):\n",
    "        if len(S) == 2*n:\n",
    "            output.append(S)\n",
    "            return\n",
    "        if left < n:\n",
    "            backtrack(S+'(', left+1, right)\n",
    "        if right < left:\n",
    "            backtrack(S+')', left, right+1)\n",
    "        \n",
    "    output = []\n",
    "    backtrack()\n",
    "    return output"
   ]
  },
  {
   "cell_type": "code",
   "execution_count": 2,
   "metadata": {},
   "outputs": [
    {
     "name": "stdout",
     "output_type": "stream",
     "text": [
      "['((((()))))', '(((()())))', '(((())()))', '(((()))())', '(((())))()', '((()(())))', '((()()()))', '((()())())', '((()()))()', '((())(()))', '((())()())', '((())())()', '((()))(())', '((()))()()', '(()((())))', '(()(()()))', '(()(())())', '(()(()))()', '(()()(()))', '(()()()())', '(()()())()', '(()())(())', '(()())()()', '(())((()))', '(())(()())', '(())(())()', '(())()(())', '(())()()()', '()(((())))', '()((()()))', '()((())())', '()((()))()', '()(()(()))', '()(()()())', '()(()())()', '()(())(())', '()(())()()', '()()((()))', '()()(()())', '()()(())()', '()()()(())', '()()()()()']\n"
     ]
    }
   ],
   "source": [
    "print(generateParenthesis(5))"
   ]
  },
  {
   "cell_type": "code",
   "execution_count": 3,
   "metadata": {},
   "outputs": [],
   "source": [
    "# Write python  function which Given an list distinct integers candidates and a target integer target, return a list of all unique combinations of candidates where the chosen numbers sum to target. \n",
    "\n",
    "def combinationSum(candidates, target):\n",
    "    results = []\n",
    "    def helper(i, path):\n",
    "        if sum(path) == target:\n",
    "            results.append(path[:])\n",
    "            return\n",
    "            \n",
    "        if sum(path) > target:\n",
    "            return\n",
    "            \n",
    "        for x in range(i, len(candidates)):\n",
    "            path.append(candidates[x])\n",
    "            helper(x, path)\n",
    "            path.pop()\n",
    "                \n",
    "    helper(0, []) \n",
    "    return results"
   ]
  },
  {
   "cell_type": "code",
   "execution_count": 4,
   "metadata": {},
   "outputs": [
    {
     "data": {
      "text/plain": [
       "[[1, 1, 1, 1], [1, 1, 2], [1, 3], [2, 2], [4]]"
      ]
     },
     "execution_count": 4,
     "metadata": {},
     "output_type": "execute_result"
    }
   ],
   "source": [
    "combinationSum([1,2,3,4], 4)"
   ]
  },
  {
   "cell_type": "code",
   "execution_count": 5,
   "metadata": {},
   "outputs": [],
   "source": [
    "# Write a function Given a list of daily temperatures T, return a list such that, for each day in the input, tells you how many days you would have to wait until a warmer temperature. If there is no future day for which this is possible, put 0 instead. \n",
    "\n",
    "def dailyTemperatures(T):\n",
    "    stack = []\n",
    "    res = [0 for _ in range(len(T))]\n",
    "    for i, t1 in enumerate(T):\n",
    "        while stack and t1 > stack[-1][1]:\n",
    "            j, t2 = stack.pop()\n",
    "            res[j] = i - j\n",
    "        stack.append((i, t1))\n",
    "    return res"
   ]
  },
  {
   "cell_type": "code",
   "execution_count": 6,
   "metadata": {},
   "outputs": [
    {
     "name": "stdout",
     "output_type": "stream",
     "text": [
      "[1, 1, 4, 2, 1, 1, 0, 0]\n"
     ]
    }
   ],
   "source": [
    "T = [73, 74, 75, 71, 69, 72, 76, 73]\n",
    "print(dailyTemperatures(T))"
   ]
  },
  {
   "cell_type": "code",
   "execution_count": 11,
   "metadata": {},
   "outputs": [],
   "source": [
    "# Write a function which Given an array of integers nums and a positive integer k, find whether it's possible to divide this array into sets of k consecutive numbers Return True if its possible otherwise return False\n",
    "\n",
    "import collections\n",
    "def isPossibleDivide(nums, k):\n",
    " \n",
    "    d = collections.Counter(nums)\n",
    "    for num in sorted(d.keys()):\n",
    "        if num in d:\n",
    "            for i in range(k - 1, -1, -1):\n",
    "                d[num + i] -= d[num] \n",
    "                if d[num + i] == 0:\n",
    "                    del d[num + i]\n",
    "                if d[num + i] < 0:\n",
    "                    return False\n",
    "\n",
    "    return (True if not d else False)"
   ]
  },
  {
   "cell_type": "code",
   "execution_count": 12,
   "metadata": {},
   "outputs": [
    {
     "data": {
      "text/plain": [
       "True"
      ]
     },
     "execution_count": 12,
     "metadata": {},
     "output_type": "execute_result"
    }
   ],
   "source": [
    "nums = [1,2,3,3,4,4,5,6]\n",
    "isPossibleDivide(nums, 4)"
   ]
  },
  {
   "cell_type": "code",
   "execution_count": 14,
   "metadata": {},
   "outputs": [],
   "source": [
    "# Write a function pow(x, n), which calculates x raised to the power n \n",
    "\n",
    "def myPow(x, n):\n",
    "    def pow(y, n):\n",
    "        if n == 0:\n",
    "            return 1.0\n",
    "        else:\n",
    "            partial = pow(x, n//2)\n",
    "            result = partial * partial\n",
    "            if n%2 == 1:\n",
    "                result *= x\n",
    "            return result\n",
    "           \n",
    "  \n",
    "    if n >= 0:\n",
    "        return pow(x, n)\n",
    "    else:\n",
    "        return 1/ pow(x, -n)\n"
   ]
  },
  {
   "cell_type": "code",
   "execution_count": 15,
   "metadata": {},
   "outputs": [
    {
     "name": "stdout",
     "output_type": "stream",
     "text": [
      "0.04\n",
      "25.0\n"
     ]
    }
   ],
   "source": [
    "print(myPow(5, -2))\n",
    "print(myPow(5, 2))"
   ]
  },
  {
   "cell_type": "code",
   "execution_count": 16,
   "metadata": {},
   "outputs": [],
   "source": [
    "# Write a python  class to implement LRU Cache\n",
    "\n",
    "class DLinkedNode:\n",
    "    def __init__(self):\n",
    "        self.key = 0\n",
    "        self.value = 0\n",
    "        self.prev = None\n",
    "        self.next = None\n",
    "\n",
    "class LRUCache(object):\n",
    "\n",
    "    def __init__(self, capacity):\n",
    "        self.capacity = capacity\n",
    "        self.head = DLinkedNode()\n",
    "        self.tail = DLinkedNode()\n",
    "        self.cache = {}\n",
    "        self.size = 0\n",
    "        self.head.next = self.tail\n",
    "        self.tail.prev = self.head\n",
    "\n",
    "    def add_node(self, node):\n",
    "        node.next = self.head.next\n",
    "        node.prev = self.head        \n",
    "        self.head.next.prev = node\n",
    "        self.head.next = node\n",
    "\n",
    "    def remove_node(self, node):\n",
    "        next = node.next\n",
    "        prev = node.prev\n",
    "        prev.next = next\n",
    "        next.prev = prev\n",
    "\n",
    "    def move_to_head(self, node ):\n",
    "        self.remove_node(node)\n",
    "        self.add_node(node)\n",
    "\n",
    "    def tail_off(self ):\n",
    "        res = self.tail.prev\n",
    "        self.remove_node(res)\n",
    "        return res       \n",
    "\n",
    "\n",
    "    def get(self, key):\n",
    "        node = self.cache.get(key, None)\n",
    "        if not node:\n",
    "            return -1\n",
    "\n",
    "        self.move_to_head(node )\n",
    "        return node.value\n",
    "        \n",
    "\n",
    "    def put(self, key, value):\n",
    "        node = self.cache.get(key, None)\n",
    "        if  not node:           \n",
    "            node = DLinkedNode()\n",
    "            node.key = key\n",
    "            node.value = value\n",
    "            self.cache[key] = node\n",
    "            self.add_node(node )\n",
    "            self.size += 1\n",
    "            if self.size > self.capacity:\n",
    "                last_node = self.tail_off()\n",
    "                del self.cache[last_node.key]\n",
    "                self.size -= 1\n",
    "        else:\n",
    "            node.value = value\n",
    "            self.move_to_head(node )\n"
   ]
  },
  {
   "cell_type": "code",
   "execution_count": 17,
   "metadata": {},
   "outputs": [
    {
     "name": "stdout",
     "output_type": "stream",
     "text": [
      "3\n",
      "2\n",
      "-1\n"
     ]
    }
   ],
   "source": [
    "obj = LRUCache(2)\n",
    "obj.put(1,1)\n",
    "obj.put(2,2)\n",
    "obj.put(3,3)\n",
    "print(obj.get(3))\n",
    "print(obj.get(2))\n",
    "print(obj.get(1))"
   ]
  },
  {
   "cell_type": "code",
   "execution_count": 26,
   "metadata": {},
   "outputs": [],
   "source": [
    "# Write functions which given Given an integer array nums, find the contiguous subarray (containing at least one number) which has the largest sum and return its sum.\n",
    "\n",
    "def cross_sum(nums, left, right, p):\n",
    "    if left == right:\n",
    "        return nums[left]\n",
    "\n",
    "    left_subsum=float('-Inf')\n",
    "\n",
    "    current_sum = 0\n",
    "    for i in range(p, left-1, -1):\n",
    "        current_sum += nums[i]\n",
    "        left_subsum = max(left_subsum, current_sum)\n",
    "\n",
    "        right_subsum=float('-Inf')\n",
    "\n",
    "        current_sum = 0\n",
    "        \n",
    "    for i in range(p+1, right+1):\n",
    "        current_sum += nums[i]\n",
    "        right_subsum = max(right_subsum, current_sum)\n",
    "\n",
    "    return left_subsum + right_subsum\n",
    "\n",
    "def helper(nums, left, right):\n",
    "    if left == right: \n",
    "        return nums[left]\n",
    "\n",
    "    p = (left + right) // 2\n",
    "\n",
    "    left_sum = helper(nums, left, p)\n",
    "    right_sum = helper(nums, p+1, right)\n",
    "    cross_sum1 =  cross_sum(nums, left, right, p)\n",
    "\n",
    "    return max(left_sum, right_sum, cross_sum1)\n",
    "\n",
    "def maxSubArray(nums):\n",
    "    return helper(nums, 0, len(nums) -1)"
   ]
  },
  {
   "cell_type": "code",
   "execution_count": 27,
   "metadata": {},
   "outputs": [
    {
     "name": "stdout",
     "output_type": "stream",
     "text": [
      "7\n"
     ]
    }
   ],
   "source": [
    "nums = [-2,1,-3,4,-1,2,1,-5,4]\n",
    "value = maxSubArray(nums)\n",
    "print(value)"
   ]
  },
  {
   "cell_type": "code",
   "execution_count": 30,
   "metadata": {},
   "outputs": [],
   "source": [
    "# Write a function which Given an list of integers arr and an integer target, find two non-overlapping sub-arrays of arr each with sum equal target\n",
    "\n",
    "from collections import defaultdict\n",
    "def minSumOfLengths(arr, target):\n",
    "    hashTable = defaultdict(int)\n",
    "    hashTable[0] = -1\n",
    "    summation = 0\n",
    "    for i in range(len(arr)):\n",
    "        summation = summation + arr[i]\n",
    "        hashTable[summation] = i\n",
    "        \n",
    "    summation = 0\n",
    "    minimumLeft = float('inf')\n",
    "    result = float('inf')\n",
    "    for i in range(len(arr)):\n",
    "        summation = summation + arr[i]\n",
    "        if summation - target in hashTable:\n",
    "            leftLength = i-hashTable[summation-target]\n",
    "            minimumLeft = min(minimumLeft,leftLength)\n",
    "        if summation + target in hashTable and minimumLeft < float('inf'):\n",
    "            rightLength = hashTable[summation+target]-i\n",
    "            result = min(result,hashTable[summation+target]-i+minimumLeft)\n",
    "        \n",
    "    if result == float('inf'):\n",
    "        return -1\n",
    "    return result"
   ]
  },
  {
   "cell_type": "code",
   "execution_count": 31,
   "metadata": {},
   "outputs": [
    {
     "name": "stdout",
     "output_type": "stream",
     "text": [
      "2\n"
     ]
    }
   ],
   "source": [
    "arr = [7,3,4,7]\n",
    "target = 7\n",
    "print(minSumOfLengths(arr, target))"
   ]
  },
  {
   "cell_type": "code",
   "execution_count": 35,
   "metadata": {},
   "outputs": [],
   "source": [
    "# Write a function which Given a keyboard layout in XY plane, where each English uppercase letter is located at some coordinate, say (0,0) for A, return the minimum total distance to type such string using only two fingers. The distance distance between coordinates (x1,y1) and (x2,y2) is |x1 - x2| + |y1 - y2|. \n",
    "\n",
    "from functools import lru_cache\n",
    "\n",
    "def minimumDistance(word):\n",
    "    def getDist(a, b):\n",
    "        if a==-1 or b==-1:\n",
    "            return 0\n",
    "        else:\n",
    "            i = ord(a) - ord('a')\n",
    "            j = ord(b) - ord('b')\n",
    "            dist = abs(i//6 - j//6) + abs(i%6 - j%6)\n",
    "            return dist\n",
    "            \n",
    "    @lru_cache(maxsize=None)\n",
    "    def getMinDist(l, r, k):\n",
    "        if k==len(word):\n",
    "            return 0\n",
    "        next = word[k].lower()\n",
    "        ret = min(getMinDist(next,r,k+1)+getDist(l,next), getMinDist(l,next,k+1)+getDist(r,next))\n",
    "        return ret\n",
    "            \n",
    "    return(getMinDist(-1,-1,0))\n"
   ]
  },
  {
   "cell_type": "code",
   "execution_count": 36,
   "metadata": {},
   "outputs": [
    {
     "name": "stdout",
     "output_type": "stream",
     "text": [
      "4\n"
     ]
    }
   ],
   "source": [
    "print(minimumDistance(\"CAKE\"))"
   ]
  },
  {
   "cell_type": "code",
   "execution_count": 40,
   "metadata": {},
   "outputs": [],
   "source": [
    "# Write a function to generate permutation of list of numbers\n",
    "\n",
    "def permute(nums):\n",
    "    def backtrack(first = 0):\n",
    "        if first == n:      \n",
    "            output.append(nums[:])\n",
    "        for i in range(first, n):\n",
    "            nums[first], nums[i] = nums[i], nums[first]            \n",
    "            backtrack(first + 1)\n",
    "\n",
    "            nums[first], nums[i] = nums[i], nums[first]\n",
    " \n",
    "        \n",
    "    n = len(nums)\n",
    "    output = []\n",
    "    backtrack()\n",
    "    return output\n",
    "        \n"
   ]
  },
  {
   "cell_type": "code",
   "execution_count": 41,
   "metadata": {},
   "outputs": [
    {
     "name": "stdout",
     "output_type": "stream",
     "text": [
      "[[1, 2, 3], [1, 3, 2], [2, 1, 3], [2, 3, 1], [3, 2, 1], [3, 1, 2]]\n"
     ]
    }
   ],
   "source": [
    "print(permute([1,2,3]))\n"
   ]
  },
  {
   "cell_type": "code",
   "execution_count": 52,
   "metadata": {},
   "outputs": [],
   "source": [
    "# Write a python class to implement a Bank which which supports basic operations like depoist, withdrwa, overdrawn\n",
    "\n",
    "class BankAccount(object):\n",
    "    def __init__(self, account_no, name, initial_balance=0):\n",
    "        self.account_no = account_no\n",
    "        self.name = name\n",
    "        self.balance = initial_balance\n",
    "    def deposit(self, amount):\n",
    "        self.balance += amount\n",
    "    def withdraw(self, amount):\n",
    "        self.balance -= amount\n",
    "    def overdrawn(self):\n",
    "        return self.balance < 0"
   ]
  },
  {
   "cell_type": "code",
   "execution_count": 54,
   "metadata": {},
   "outputs": [
    {
     "name": "stdout",
     "output_type": "stream",
     "text": [
      "200\n",
      "False\n"
     ]
    }
   ],
   "source": [
    "bk = BankAccount('1', 'Ravi')\n",
    "bk.deposit(500)\n",
    "bk.withdraw(300)\n",
    "print(bk.balance)\n",
    "print(bk.overdrawn())"
   ]
  },
  {
   "cell_type": "code",
   "execution_count": 55,
   "metadata": {},
   "outputs": [],
   "source": [
    "# Write a function to calculate median of a list of numbers given\n",
    "\n",
    "def median(pool):\n",
    "    copy = sorted(pool)\n",
    "    size = len(copy)\n",
    "    if size % 2 == 1:\n",
    "        return copy[int((size - 1) / 2)]\n",
    "    else:\n",
    "        return (copy[int(size/2 - 1)] + copy[int(size/2)]) / 2"
   ]
  },
  {
   "cell_type": "code",
   "execution_count": 57,
   "metadata": {},
   "outputs": [
    {
     "name": "stdout",
     "output_type": "stream",
     "text": [
      "7\n"
     ]
    }
   ],
   "source": [
    "print(median([2, 9, 9, 7, 9, 2, 4, 5, 8]))"
   ]
  },
  {
   "cell_type": "code",
   "execution_count": 58,
   "metadata": {},
   "outputs": [
    {
     "name": "stdout",
     "output_type": "stream",
     "text": [
      "Hello! What is your name?\n",
      "5\n",
      "Well, 5, I am thinking of a number between 1 and 20.\n",
      "Take a guess: 8\n",
      "Your guess is too high.\n",
      "Take a guess: 3\n",
      "Your guess is too low.\n",
      "Take a guess: 9\n",
      "Your guess is too high.\n",
      "Take a guess: 7\n",
      "Good job, 5! You guessed my number in 4 guesses!\n"
     ]
    }
   ],
   "source": [
    "# Write a program to guess a number between 1 and 20 and greet if succesfully guessed\n",
    "\n",
    "import random\n",
    "\n",
    "guesses_made = 0\n",
    "\n",
    "name = input('Hello! What is your name?\\n')\n",
    "\n",
    "number = random.randint(1, 20)\n",
    "print ('Well, {0}, I am thinking of a number between 1 and 20.'.format(name))\n",
    "\n",
    "while guesses_made < 6:\n",
    "\n",
    "    guess = int(input('Take a guess: '))\n",
    "\n",
    "    guesses_made += 1\n",
    "\n",
    "    if guess < number:\n",
    "        print ('Your guess is too low.')\n",
    "\n",
    "    if guess > number:\n",
    "        print ('Your guess is too high.')\n",
    "\n",
    "    if guess == number:\n",
    "        break\n",
    "\n",
    "if guess == number:\n",
    "    print ('Good job, {0}! You guessed my number in {1} guesses!'.format(name, guesses_made))\n",
    "else:\n",
    "    print ('Nope. The number I was thinking of was {0}'.format(number))"
   ]
  },
  {
   "cell_type": "code",
   "execution_count": null,
   "metadata": {},
   "outputs": [
    {
     "name": "stdout",
     "output_type": "stream",
     "text": [
      "\n",
      "\n",
      "Rock, Paper, Scissors - Shoot!\n",
      "Choose your weapon [R]ock], [P]aper, or [S]cissors: R\n",
      "You chose: R\n",
      "I chose: P\n",
      "Paper beat rock, I win! \n",
      "\n",
      "\n",
      "Rock, Paper, Scissors - Shoot!\n",
      "Choose your weapon [R]ock], [P]aper, or [S]cissors: P\n",
      "You chose: P\n",
      "I chose: R\n",
      "You win!\n",
      "\n",
      "\n",
      "Rock, Paper, Scissors - Shoot!\n",
      "Choose your weapon [R]ock], [P]aper, or [S]cissors: S\n",
      "You chose: S\n",
      "I chose: S\n",
      "Tie! \n",
      "\n",
      "\n",
      "Rock, Paper, Scissors - Shoot!\n",
      "Choose your weapon [R]ock], [P]aper, or [S]cissors: R\n",
      "You chose: R\n",
      "I chose: R\n",
      "Tie! \n",
      "\n",
      "\n",
      "Rock, Paper, Scissors - Shoot!\n",
      "Choose your weapon [R]ock], [P]aper, or [S]cissors: P\n",
      "You chose: P\n",
      "I chose: S\n",
      "Scissors beats paper! I win! \n",
      "\n",
      "\n",
      "Rock, Paper, Scissors - Shoot!\n",
      "Choose your weapon [R]ock], [P]aper, or [S]cissors: S\n",
      "You chose: S\n",
      "I chose: R\n",
      "Scissors beats rock, I win! \n",
      "\n",
      "\n",
      "Rock, Paper, Scissors - Shoot!\n"
     ]
    }
   ],
   "source": [
    "# Write a python program to implement Rock, paper, scissor game and print the results\n",
    "\n",
    "import random\n",
    "import os\n",
    "import re\n",
    "os.system('cls' if os.name=='nt' else 'clear')\n",
    "while (1 < 2):\n",
    "    print(\"\\n\")\n",
    "    print(\"Rock, Paper, Scissors - Shoot!\")\n",
    "    userChoice = input(\"Choose your weapon [R]ock], [P]aper, or [S]cissors: \")\n",
    "    if not re.match(\"[SsRrPp]\", userChoice):\n",
    "        print(\"Please choose a letter:\")\n",
    "        print(\"[R]ock, [S]cissors or [P]aper.\")\n",
    "        continue\n",
    "    print(\"You chose: \" + userChoice)\n",
    "    choices = ['R', 'P', 'S']\n",
    "    opponenetChoice = random.choice(choices)\n",
    "    print(\"I chose: \" + opponenetChoice)\n",
    "    if opponenetChoice == str.upper(userChoice):\n",
    "        print(\"Tie! \")\n",
    "    #if opponenetChoice == str(\"R\") and str.upper(userChoice) == \"P\"\n",
    "    elif opponenetChoice == 'R' and userChoice.upper() == 'S':      \n",
    "        print(\"Scissors beats rock, I win! \")\n",
    "        continue\n",
    "    elif opponenetChoice == 'S' and userChoice.upper() == 'P':      \n",
    "        print(\"Scissors beats paper! I win! \")\n",
    "        continue\n",
    "    elif opponenetChoice == 'P' and userChoice.upper() == 'R':      \n",
    "        print(\"Paper beat rock, I win! \")\n",
    "        continue\n",
    "    else:       \n",
    "        print(\"You win!\")"
   ]
  },
  {
   "cell_type": "code",
   "execution_count": 2,
   "metadata": {},
   "outputs": [
    {
     "name": "stdout",
     "output_type": "stream",
     "text": [
      "Hi\n"
     ]
    }
   ],
   "source": [
    "print(\"Hi\")"
   ]
  },
  {
   "cell_type": "code",
   "execution_count": 4,
   "metadata": {},
   "outputs": [
    {
     "name": "stdout",
     "output_type": "stream",
     "text": [
      "Player is [O] and computer is [X]\n",
      "  |   |   \n",
      "---------\n",
      "  |   |   \n",
      "---------\n",
      "  |   |   \n",
      "---------\n",
      "#Make your move ! [1-9] : 3\n",
      "X |   | O \n",
      "---------\n",
      "  |   |   \n",
      "---------\n",
      "  |   |   \n",
      "---------\n",
      "#Make your move ! [1-9] : 2\n",
      "X | O | O \n",
      "---------\n",
      "  |   |   \n",
      "---------\n",
      "X |   |   \n",
      "---------\n",
      "#Make your move ! [1-9] : 9\n",
      "X | O | O \n",
      "---------\n",
      "X |   |   \n",
      "---------\n",
      "X |   | O \n",
      "---------\n",
      "=== You lose ! ==\n"
     ]
    }
   ],
   "source": [
    "# Write a python program to implement Tic Tac Toe game and print the results\n",
    "\n",
    "\n",
    "import random\n",
    "import sys\n",
    "board=[i for i in range(0,9)]\n",
    "player, computer = '',''\n",
    "\n",
    "moves=((1,7,3,9),(5,),(2,4,6,8))\n",
    "\n",
    "winners=((0,1,2),(3,4,5),(6,7,8),(0,3,6),(1,4,7),(2,5,8),(0,4,8),(2,4,6))\n",
    "\n",
    "tab=range(1,10)\n",
    "def print_board():\n",
    "    x=1\n",
    "    for i in board:\n",
    "        end = ' | '\n",
    "        if x%3 == 0:\n",
    "            end = ' \\n'\n",
    "            if i != 1: end+='---------\\n';\n",
    "        char=' '\n",
    "        if i in ('X','O'): char=i;\n",
    "        x+=1\n",
    "        print(char,end=end)\n",
    "def select_char():\n",
    "    chars=('X','O')\n",
    "    if random.randint(0,1) == 0:\n",
    "        return chars[::-1]\n",
    "    return chars\n",
    "def can_move(brd, player, move):\n",
    "    if move in tab and brd[move-1] == move-1:\n",
    "        return True\n",
    "    return False\n",
    "def can_win(brd, player, move):\n",
    "    places=[]\n",
    "    x=0\n",
    "    for i in brd:\n",
    "        if i == player: places.append(x);\n",
    "        x+=1\n",
    "    win=True\n",
    "    for tup in winners:\n",
    "        win=True\n",
    "        for ix in tup:\n",
    "            if brd[ix] != player:\n",
    "                win=False\n",
    "                break\n",
    "        if win == True:\n",
    "            break\n",
    "    return win\n",
    "\n",
    "def make_move(brd, player, move, undo=False):\n",
    "    if can_move(brd, player, move):\n",
    "        brd[move-1] = player\n",
    "        win=can_win(brd, player, move)\n",
    "        if undo:\n",
    "            brd[move-1] = move-1\n",
    "        return (True, win)\n",
    "    return (False, False)\n",
    "\n",
    "def computer_move():\n",
    "    move=-1\n",
    "    for i in range(1,10):\n",
    "        if make_move(board, computer, i, True)[1]:\n",
    "            move=i\n",
    "            break\n",
    "    if move == -1:\n",
    "        for i in range(1,10):\n",
    "            if make_move(board, player, i, True)[1]:\n",
    "                move=i\n",
    "                break\n",
    "    if move == -1:\n",
    "        for tup in moves:\n",
    "            for mv in tup:\n",
    "                if move == -1 and can_move(board, computer, mv):\n",
    "                    move=mv\n",
    "                    break\n",
    "    return make_move(board, computer, move)\n",
    "def space_exist():\n",
    "    return board.count('X') + board.count('O') != 9\n",
    "player, computer = select_char()\n",
    "print('Player is [%s] and computer is [%s]' % (player, computer))\n",
    "result='%%% Deuce ! %%%'\n",
    "while space_exist():\n",
    "    print_board()\n",
    "    print('#Make your move ! [1-9] : ', end='')\n",
    "    move = int(input())\n",
    "    moved, won = make_move(board, player, move)\n",
    "    if not moved:\n",
    "        print(' >> Invalid number ! Try again !')\n",
    "        continue\n",
    " \n",
    "    if won:\n",
    "        result='*** Congratulations ! You won ! ***'\n",
    "        break\n",
    "    elif computer_move()[1]:\n",
    "        result='=== You lose ! =='\n",
    "        break;\n",
    "print_board()\n",
    "print(result)"
   ]
  },
  {
   "cell_type": "code",
   "execution_count": 5,
   "metadata": {},
   "outputs": [],
   "source": [
    "# Write a function to return zodiac sign given day and month of date of birth\n",
    "\n",
    "def zodiac_sign(day, month): \n",
    "\n",
    "    if month == 'december': \n",
    "        astro_sign = 'Sagittarius' if (day < 22) else 'capricorn'\n",
    "          \n",
    "    elif month == 'january': \n",
    "        astro_sign = 'Capricorn' if (day < 20) else 'aquarius'\n",
    "          \n",
    "    elif month == 'february': \n",
    "        astro_sign = 'Aquarius' if (day < 19) else 'pisces'\n",
    "          \n",
    "    elif month == 'march': \n",
    "        astro_sign = 'Pisces' if (day < 21) else 'aries'\n",
    "          \n",
    "    elif month == 'april': \n",
    "        astro_sign = 'Aries' if (day < 20) else 'taurus'\n",
    "          \n",
    "    elif month == 'may': \n",
    "        astro_sign = 'Taurus' if (day < 21) else 'gemini'\n",
    "          \n",
    "    elif month == 'june': \n",
    "        astro_sign = 'Gemini' if (day < 21) else 'cancer'\n",
    "          \n",
    "    elif month == 'july': \n",
    "        astro_sign = 'Cancer' if (day < 23) else 'leo'\n",
    "          \n",
    "    elif month == 'august': \n",
    "        astro_sign = 'Leo' if (day < 23) else 'virgo'\n",
    "          \n",
    "    elif month == 'september': \n",
    "        astro_sign = 'Virgo' if (day < 23) else 'libra'\n",
    "          \n",
    "    elif month == 'october': \n",
    "        astro_sign = 'Libra' if (day < 23) else 'scorpio'\n",
    "          \n",
    "    elif month == 'november': \n",
    "        astro_sign = 'scorpio' if (day < 22) else 'sagittarius'\n",
    "          \n",
    "    print(astro_sign) \n",
    "      \n",
    "\n"
   ]
  },
  {
   "cell_type": "code",
   "execution_count": 6,
   "metadata": {},
   "outputs": [
    {
     "name": "stdout",
     "output_type": "stream",
     "text": [
      "Taurus\n"
     ]
    }
   ],
   "source": [
    "day = 19\n",
    "month = \"may\"\n",
    "zodiac_sign(day, month) \n"
   ]
  },
  {
   "cell_type": "code",
   "execution_count": 7,
   "metadata": {},
   "outputs": [],
   "source": [
    "# Write a function to get the Cumulative sum of a list \n",
    "def Cumulative(lists): \n",
    "    cu_list = [] \n",
    "    length = len(lists) \n",
    "    cu_list = [sum(lists[0:x:1]) for x in range(0, length+1)] \n",
    "    return cu_list[1:]\n",
    " "
   ]
  },
  {
   "cell_type": "code",
   "execution_count": 8,
   "metadata": {},
   "outputs": [
    {
     "name": "stdout",
     "output_type": "stream",
     "text": [
      "[10, 30, 60, 100, 150]\n"
     ]
    }
   ],
   "source": [
    "lists = [10, 20, 30, 40, 50] \n",
    "print (Cumulative(lists))"
   ]
  },
  {
   "cell_type": "code",
   "execution_count": 10,
   "metadata": {},
   "outputs": [
    {
     "name": "stdout",
     "output_type": "stream",
     "text": [
      "The original list : [['India', 'good'], ['is', 'for'], ['Best']]\n",
      "List after column Concatenation : ['IndiaisBest', 'goodfor']\n"
     ]
    }
   ],
   "source": [
    "# Write a python program to perform Vertical Concatenation in Matrix  \n",
    "  \n",
    "test_list = [[\"India\", \"good\"], [\"is\", \"for\"], [\"Best\"]] \n",
    "print(\"The original list : \" + str(test_list)) \n",
    "res = [] \n",
    "N = 0\n",
    "while N != len(test_list): \n",
    "    temp = '' \n",
    "    for idx in test_list:       \n",
    "\n",
    "        try: temp = temp + idx[N] \n",
    "        except IndexError: pass\n",
    "    res.append(temp) \n",
    "    N = N + 1\n",
    "  \n",
    "res = [ele for ele in res if ele] \n",
    "  \n",
    "print(\"List after column Concatenation : \" + str(res)) \n"
   ]
  },
  {
   "cell_type": "code",
   "execution_count": 11,
   "metadata": {},
   "outputs": [
    {
     "name": "stdout",
     "output_type": "stream",
     "text": [
      "The original string 1 is : India \n",
      "is\n",
      "The original string 2 is : best \n",
      "for everybody \n",
      "\n",
      "String after concatenation :    India best\n",
      "   is for everybody\n"
     ]
    }
   ],
   "source": [
    "# Write a python program code to perform Triple quote String concatenation Using splitlines() + join() + strip() \n",
    "  \n",
    "\n",
    "test_str1 = \"\"\"India \n",
    "is\"\"\"\n",
    "test_str2 = \"\"\"best \n",
    "for everybody \n",
    "\"\"\"\n",
    "  \n",
    "\n",
    "print(\"The original string 1 is : \" + test_str1) \n",
    "print(\"The original string 2 is : \" + test_str2) \n",
    "  \n",
    "test_str1 = test_str1.splitlines() \n",
    "test_str2 = test_str2.splitlines() \n",
    "res = [] \n",
    "  \n",
    "for i, j in zip(test_str1, test_str2): \n",
    "    res.append(\"   \" + i.strip() + \" \" + j.strip()) \n",
    "res = '\\n'.join(res) \n",
    "  \n",
    "\n",
    "print(\"String after concatenation : \" + str(res))  \n"
   ]
  },
  {
   "cell_type": "code",
   "execution_count": 12,
   "metadata": {
    "scrolled": true
   },
   "outputs": [
    {
     "name": "stdout",
     "output_type": "stream",
     "text": [
      "The original list is : ['India', 'gone', 'new', 'best']\n",
      "The resultant joined string : Indiagonewbest\n"
     ]
    }
   ],
   "source": [
    "# Write a program to perform Consecutive prefix overlap concatenation Using endswith() + join() + list comprehension + zip() + loop \n",
    "  \n",
    "def help_fnc(i, j): \n",
    "    for ele in range(len(j), -1, -1): \n",
    "        if i.endswith(j[:ele]): \n",
    "            return j[ele:] \n",
    "  \n",
    "\n",
    "test_list = [\"India\", \"gone\", \"new\", \"best\"] \n",
    "  \n",
    "print(\"The original list is : \" + str(test_list)) \n",
    "  \n",
    "res = ''.join(help_fnc(i, j) for i, j in zip([''] + \n",
    "                           test_list, test_list)) \n",
    "  \n",
    "print(\"The resultant joined string : \" + str(res)) "
   ]
  },
  {
   "cell_type": "code",
   "execution_count": 13,
   "metadata": {},
   "outputs": [],
   "source": [
    "# Determine if a 9 x 9 Sudoku board is valid. Only the filled cells need to be validated according to the following rules: Each row/column/subbox must contain the digits 1-9 without repetition.\n",
    "\n",
    "def isValidSudoku(board):\n",
    "    rows = [{} for i in range(9)]\n",
    "    columns = [{} for i in range(9)]\n",
    "    boxes = [{} for i in range(9)]\n",
    "        \n",
    "    for i in range(9):\n",
    "        for j in range(9):\n",
    "            num = board[i][j]\n",
    "            if num != '.':\n",
    "                num = int(num)\n",
    "                box_index = (i//3)*3 + (j//3)\n",
    "                rows[i][num] = rows[i].get(num, 0) + 1\n",
    "                columns[j][num] = columns[j].get(num, 0) + 1\n",
    "                boxes[box_index][num] = boxes[box_index].get(num, 0) + 1       \n",
    "                if rows[i][num] > 1 or columns[j][num] > 1 or boxes[box_index][num] > 1:\n",
    "                    print(\" i= {0} j = {1} box_index ={2}\".format(i,j,box_index))\n",
    "                    print(\"rows[i]: \", rows[i])\n",
    "                    print(\"columnns[j]: \", columns[j])\n",
    "                    print(\"boxes[box_index]: \", boxes[box_index])\n",
    "                    return False\n",
    "                    \n",
    "    return True"
   ]
  },
  {
   "cell_type": "code",
   "execution_count": 14,
   "metadata": {},
   "outputs": [
    {
     "name": "stdout",
     "output_type": "stream",
     "text": [
      "True\n"
     ]
    }
   ],
   "source": [
    "input = [[\".\",\"8\",\"7\",\"6\",\"5\",\"4\",\"3\",\"2\",\"1\"],[\"2\",\".\",\".\",\".\",\".\",\".\",\".\",\".\",\".\"],[\"3\",\".\",\".\",\".\",\".\",\".\",\".\",\".\",\".\"],[\"4\",\".\",\".\",\".\",\".\",\".\",\".\",\".\",\".\"],[\"5\",\".\",\".\",\".\",\".\",\".\",\".\",\".\",\".\"],[\"6\",\".\",\".\",\".\",\".\",\".\",\".\",\".\",\".\"],[\"7\",\".\",\".\",\".\",\".\",\".\",\".\",\".\",\".\"],[\"8\",\".\",\".\",\".\",\".\",\".\",\".\",\".\",\".\"],[\"9\",\".\",\".\",\".\",\".\",\".\",\".\",\".\",\".\"]]\n",
    "print(isValidSudoku(input))"
   ]
  },
  {
   "cell_type": "code",
   "execution_count": 17,
   "metadata": {},
   "outputs": [],
   "source": [
    "# Write a python function to generate unique file names in a folder for a given list of file names\n",
    "\n",
    "from collections import Counter\n",
    "\n",
    "def getFolderNames(names):\n",
    "    seen, res = Counter(), []\n",
    "    for name in names:\n",
    "        if name in seen:\n",
    "            while True:\n",
    "                c = f'({seen[name]})'\n",
    "                if name + c not in seen:\n",
    "                    name += c\n",
    "                    break\n",
    "                else:\n",
    "                    seen[name] += 1\n",
    "        seen[name] += 1\n",
    "        res.append(name)\n",
    "    return res"
   ]
  },
  {
   "cell_type": "code",
   "execution_count": 18,
   "metadata": {},
   "outputs": [
    {
     "name": "stdout",
     "output_type": "stream",
     "text": [
      "['gta', 'gta(1)', 'gta(2)', 'avalon']\n"
     ]
    }
   ],
   "source": [
    "print(getFolderNames([\"gta\",\"gta(1)\",\"gta\",\"avalon\"]))"
   ]
  },
  {
   "cell_type": "code",
   "execution_count": 19,
   "metadata": {},
   "outputs": [
    {
     "name": "stdout",
     "output_type": "stream",
     "text": [
      "(1.0, 0.0)\n"
     ]
    }
   ],
   "source": [
    "# Write a python program to convert complex number to polar coordinates\n",
    "\n",
    "import cmath  \n",
    "      \n",
    "# using cmath.polar() method  \n",
    "num = cmath.polar(1)  \n",
    "print(num) "
   ]
  },
  {
   "cell_type": "code",
   "execution_count": 20,
   "metadata": {},
   "outputs": [
    {
     "name": "stdout",
     "output_type": "stream",
     "text": [
      "                                  2019\n",
      "\n",
      "      January                   February                   March\n",
      "Mo Tu We Th Fr Sa Su      Mo Tu We Th Fr Sa Su      Mo Tu We Th Fr Sa Su\n",
      "    1  2  3  4  5  6                   1  2  3                   1  2  3\n",
      " 7  8  9 10 11 12 13       4  5  6  7  8  9 10       4  5  6  7  8  9 10\n",
      "14 15 16 17 18 19 20      11 12 13 14 15 16 17      11 12 13 14 15 16 17\n",
      "21 22 23 24 25 26 27      18 19 20 21 22 23 24      18 19 20 21 22 23 24\n",
      "28 29 30 31               25 26 27 28               25 26 27 28 29 30 31\n",
      "\n",
      "       April                      May                       June\n",
      "Mo Tu We Th Fr Sa Su      Mo Tu We Th Fr Sa Su      Mo Tu We Th Fr Sa Su\n",
      " 1  2  3  4  5  6  7             1  2  3  4  5                      1  2\n",
      " 8  9 10 11 12 13 14       6  7  8  9 10 11 12       3  4  5  6  7  8  9\n",
      "15 16 17 18 19 20 21      13 14 15 16 17 18 19      10 11 12 13 14 15 16\n",
      "22 23 24 25 26 27 28      20 21 22 23 24 25 26      17 18 19 20 21 22 23\n",
      "29 30                     27 28 29 30 31            24 25 26 27 28 29 30\n",
      "\n",
      "        July                     August                  September\n",
      "Mo Tu We Th Fr Sa Su      Mo Tu We Th Fr Sa Su      Mo Tu We Th Fr Sa Su\n",
      " 1  2  3  4  5  6  7                1  2  3  4                         1\n",
      " 8  9 10 11 12 13 14       5  6  7  8  9 10 11       2  3  4  5  6  7  8\n",
      "15 16 17 18 19 20 21      12 13 14 15 16 17 18       9 10 11 12 13 14 15\n",
      "22 23 24 25 26 27 28      19 20 21 22 23 24 25      16 17 18 19 20 21 22\n",
      "29 30 31                  26 27 28 29 30 31         23 24 25 26 27 28 29\n",
      "                                                    30\n",
      "\n",
      "      October                   November                  December\n",
      "Mo Tu We Th Fr Sa Su      Mo Tu We Th Fr Sa Su      Mo Tu We Th Fr Sa Su\n",
      "    1  2  3  4  5  6                   1  2  3                         1\n",
      " 7  8  9 10 11 12 13       4  5  6  7  8  9 10       2  3  4  5  6  7  8\n",
      "14 15 16 17 18 19 20      11 12 13 14 15 16 17       9 10 11 12 13 14 15\n",
      "21 22 23 24 25 26 27      18 19 20 21 22 23 24      16 17 18 19 20 21 22\n",
      "28 29 30 31               25 26 27 28 29 30         23 24 25 26 27 28 29\n",
      "                                                    30 31\n",
      "\n"
     ]
    }
   ],
   "source": [
    "# Write a python program to print calendar of a given year\n",
    "\n",
    "import calendar \n",
    "  \n",
    "year = 2019\n",
    "print(calendar.calendar(year))   \n"
   ]
  },
  {
   "cell_type": "code",
   "execution_count": 21,
   "metadata": {},
   "outputs": [],
   "source": [
    "# Write a python function to perform Matrix Chain multiplication i.e. Given a sequence of matrices, find the most efficient way to multiply these matrices together\n",
    "\n",
    "import sys \n",
    "\n",
    "def MatrixChainOrder(p, i, j): \n",
    "  \n",
    "    if i == j: \n",
    "        return 0\n",
    "  \n",
    "    _min = sys.maxsize \n",
    "      \n",
    "    for k in range(i, j): \n",
    "      \n",
    "        count = (MatrixChainOrder(p, i, k)  \n",
    "             + MatrixChainOrder(p, k + 1, j) \n",
    "                   + p[i-1] * p[k] * p[j]) \n",
    "  \n",
    "        if count < _min: \n",
    "            _min = count; \n",
    "      \n",
    "  \n",
    "    return _min; \n",
    "\n",
    "\n",
    "\n"
   ]
  },
  {
   "cell_type": "code",
   "execution_count": 23,
   "metadata": {},
   "outputs": [
    {
     "name": "stdout",
     "output_type": "stream",
     "text": [
      "Minimum number of multiplications is  30\n"
     ]
    }
   ],
   "source": [
    "arr = [1, 2, 3, 4, 3]; \n",
    "n = len(arr); \n",
    "  \n",
    "print(\"Minimum number of multiplications is \",  MatrixChainOrder(arr, 1, n-1)); "
   ]
  },
  {
   "cell_type": "code",
   "execution_count": null,
   "metadata": {},
   "outputs": [],
   "source": []
  }
 ],
 "metadata": {
  "kernelspec": {
   "display_name": "Python 3",
   "language": "python",
   "name": "python3"
  },
  "language_info": {
   "codemirror_mode": {
    "name": "ipython",
    "version": 3
   },
   "file_extension": ".py",
   "mimetype": "text/x-python",
   "name": "python",
   "nbconvert_exporter": "python",
   "pygments_lexer": "ipython3",
   "version": "3.7.6"
  }
 },
 "nbformat": 4,
 "nbformat_minor": 4
}
